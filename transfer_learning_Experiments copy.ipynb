{
 "cells": [
  {
   "cell_type": "markdown",
   "id": "ab54073a",
   "metadata": {},
   "source": [
    "# Trauma Transfer Learning Experiment"
   ]
  },
  {
   "cell_type": "markdown",
   "id": "d2a5df50",
   "metadata": {},
   "source": [
    "This notebook compares baseline survival models and a transfer learning approach using Indian and Jordan trauma datasets."
   ]
  },
  {
   "cell_type": "code",
   "execution_count": 1,
   "id": "93393ef1",
   "metadata": {},
   "outputs": [],
   "source": [
    "import pandas as pd\n",
    "import numpy as np\n",
    "import matplotlib.pyplot as plt\n",
    "import seaborn as sns\n",
    "from lifelines import CoxPHFitter, KaplanMeierFitter\n",
    "from lifelines.utils import concordance_index\n",
    "from sksurv.ensemble import GradientBoostingSurvivalAnalysis\n",
    "#\n",
    "sns.set(style='whitegrid')\n"
   ]
  },
  {
   "cell_type": "markdown",
   "id": "7c8513b4",
   "metadata": {},
   "source": [
    "## Load datasets"
   ]
  },
  {
   "cell_type": "code",
   "execution_count": 2,
   "id": "0565143e",
   "metadata": {},
   "outputs": [],
   "source": [
    "india_file = 'trauma_india_brain_injury.csv'\n",
    "jordan_file = 'traumatic_brain_injury.csv'\n",
    "\n",
    "cols_india = ['age','sex','sbp_1','hr_1','rr_1','gcs_t_1','doa','toa','dodd','todd','moi','died']\n",
    "india = pd.read_csv(india_file, usecols=cols_india)\n",
    "\n",
    "cols_jordan = ['Gender','age of diagnosis','ER-HR','ER-RR','ER-systolic BP','GCS in ER','type of trauma','length of stay in the hospital (in days)','outcome']\n",
    "jordan = pd.read_csv(jordan_file, usecols=cols_jordan)\n"
   ]
  },
  {
   "cell_type": "code",
   "execution_count": 3,
   "id": "e012fd09",
   "metadata": {},
   "outputs": [
    {
     "name": "stdout",
     "output_type": "stream",
     "text": [
      "   Gender  age of diagnosis   type of trauma  GCS in ER        ER-HR  \\\n",
      "0  Female               6.0  RTA(PEDASTRAIN)       15.0  tachycardia   \n",
      "1    Male               7.0  RTA(PEDASTRAIN)       15.0       normal   \n",
      "2    Male              13.0     falling down        3.0       normal   \n",
      "3    Male               9.0              RTA       13.0       normal   \n",
      "4    Male               1.5     falling down       15.0       normal   \n",
      "\n",
      "       ER-RR ER-systolic BP  length of stay in the hospital (in days)  \\\n",
      "0  tachypnea         normal                                       5.0   \n",
      "1     normal         normal                                       7.0   \n",
      "2     normal         normal                                       7.0   \n",
      "3     normal         normal                                      28.0   \n",
      "4     normal         normal                                       3.0   \n",
      "\n",
      "    outcome  \n",
      "0  survival  \n",
      "1  survival  \n",
      "2  survival  \n",
      "3  survival  \n",
      "4  survival  \n"
     ]
    }
   ],
   "source": [
    "from sklearn.experimental import enable_iterative_imputer\n",
    "from sklearn.impute import IterativeImputer\n",
    "\n",
    "# Select only numeric columns for imputation\n",
    "jordan_numeric = jordan.select_dtypes(include=[np.number])\n",
    "\n",
    "# Perform iterative imputation\n",
    "imputer = IterativeImputer(random_state=0)\n",
    "jordan_imputed_array = imputer.fit_transform(jordan_numeric)\n",
    "\n",
    "# Replace numeric columns in jordan with imputed values\n",
    "jordan[jordan_numeric.columns] = jordan_imputed_array\n",
    "\n",
    "print(jordan.head())"
   ]
  },
  {
   "cell_type": "markdown",
   "id": "396c16f4",
   "metadata": {},
   "source": [
    "## Feature engineering"
   ]
  },
  {
   "cell_type": "code",
   "execution_count": 4,
   "id": "4325354a",
   "metadata": {},
   "outputs": [],
   "source": [
    "# Pediatric reference ranges (example, adjust as needed for your population)\n",
    "def hr_category(age, hr):\n",
    "    # Age in years, HR in bpm\n",
    "    if pd.isnull(hr) or pd.isnull(age):\n",
    "        return np.nan\n",
    "    if age < 1:\n",
    "        if hr > 160: return 'tachycardia'\n",
    "        else: return 'normal'\n",
    "    elif age < 3:\n",
    "        if hr > 150: return 'tachycardia'\n",
    "        else: return 'normal'\n",
    "    elif age < 6:\n",
    "        if hr > 140: return 'tachycardia'\n",
    "        else: return 'normal'\n",
    "    elif age < 12:\n",
    "        if hr > 120: return 'tachycardia'\n",
    "        else: return 'normal'\n",
    "    else:\n",
    "        if hr > 100: return 'tachycardia'\n",
    "        else: return 'normal'\n",
    "\n",
    "def rr_category(age, rr):\n",
    "    # Age in years, RR in breaths/min\n",
    "    if pd.isnull(rr) or pd.isnull(age):\n",
    "        return np.nan\n",
    "    if age < 1:\n",
    "        if rr > 60: return 'tachypnea'\n",
    "        else: return 'normal'\n",
    "    elif age < 3:\n",
    "        if rr > 40: return 'tachypnea'\n",
    "        else: return 'normal'\n",
    "    elif age < 6:\n",
    "        if rr > 34: return 'tachypnea'\n",
    "        else: return 'normal'\n",
    "    elif age < 12:\n",
    "        if rr > 30: return 'tachypnea'\n",
    "        else: return 'normal'\n",
    "    else:\n",
    "        if rr > 20: return 'tachypnea'\n",
    "        else: return 'normal'\n",
    "\n",
    "def sbp_category(age, sbp):\n",
    "    # Age in years, SBP in mmHg\n",
    "    if pd.isnull(sbp) or pd.isnull(age):\n",
    "        return np.nan\n",
    "    if age < 1:\n",
    "        if sbp < 70: return 'low'\n",
    "        else: return 'normal'\n",
    "    elif age < 10:\n",
    "        if sbp < 70 + 2*age: return 'low'\n",
    "        else: return 'normal'\n",
    "    else:\n",
    "        if sbp < 90: return 'low'\n",
    "        else: return 'normal'\n",
    "\n"
   ]
  },
  {
   "cell_type": "code",
   "execution_count": 5,
   "id": "f017c34c",
   "metadata": {},
   "outputs": [],
   "source": [
    "def normalize_india_moi(moi):\n",
    "    \"\"\"\n",
    "    Consolidates India's MOI categories:\n",
    "    Groups motorcyclist, bicyclist, unspecified under 'unspecified'.\n",
    "    \"\"\"\n",
    "    if pd.isnull(moi):\n",
    "        return 'Unmapped'\n",
    "\n",
    "    moi = moi.strip()\n",
    "\n",
    "    if moi in [\n",
    "        'Road traffic injury (motorcyclist)',\n",
    "        'Road traffic injury (bicyclist)',\n",
    "        'Road traffic injury (unspecified)'\n",
    "    ]:\n",
    "        return 'Road traffic injury (unspecified)'\n",
    "\n",
    "    return moi\n"
   ]
  },
  {
   "cell_type": "code",
   "execution_count": 6,
   "id": "2ab15166",
   "metadata": {},
   "outputs": [],
   "source": [
    "def get_mode_of_injury(jordan_trauma):\n",
    "    \"\"\"\n",
    "    Maps Jordan 'type of trauma' value to India-style 'mode_of_injury'.\n",
    "\n",
    "    Parameters:\n",
    "    - jordan_trauma: string\n",
    "\n",
    "    Returns:\n",
    "    - Standardized MOI string (India format) or 'Unmapped'\n",
    "    \"\"\"\n",
    "    if pd.isnull(jordan_trauma):\n",
    "        return 'Unmapped'\n",
    "    \n",
    "    mapping = {\n",
    "        'RTA(PEDASTRAIN)': 'Road traffic injury (pedestrian)',\n",
    "        'Falling down': 'Fall',\n",
    "        'falling down': 'Fall',\n",
    "        'RTA': 'Road traffic injury (unspecified)',\n",
    "        'RTA ': 'Road traffic injury (unspecified)',\n",
    "        'RTA(back seated)': 'Road traffic injury (passenger)',\n",
    "        'RTA(first seat)': 'Road traffic injury (driver)',\n",
    "        'Blast injury': 'Burn',\n",
    "        'struck by a heavy object': 'Assault'\n",
    "    }\n",
    "\n",
    "    return mapping.get(jordan_trauma.strip(), 'Unmapped')\n"
   ]
  },
  {
   "cell_type": "code",
   "execution_count": 7,
   "id": "6d84ea7e",
   "metadata": {},
   "outputs": [],
   "source": [
    "india['moi'] = india['moi'].apply(normalize_india_moi)\n",
    "exclude_moi = ['Railway injury', 'Other', 'Unmapped']\n",
    "india = india[~india['moi'].isin(exclude_moi)].copy()\n"
   ]
  },
  {
   "cell_type": "code",
   "execution_count": 8,
   "id": "59a0b7fb",
   "metadata": {},
   "outputs": [],
   "source": [
    "jordan['type of trauma'] = jordan['type of trauma'].apply(get_mode_of_injury)\n",
    "jordan= jordan[~jordan['type of trauma'].isin(exclude_moi)].copy()\n"
   ]
  },
  {
   "cell_type": "code",
   "execution_count": 9,
   "id": "436e8f6f",
   "metadata": {},
   "outputs": [
    {
     "name": "stderr",
     "output_type": "stream",
     "text": [
      "C:\\Users\\SBSBB\\AppData\\Local\\Temp\\ipykernel_23212\\3600371442.py:2: UserWarning: Could not infer format, so each element will be parsed individually, falling back to `dateutil`. To ensure parsing is consistent and as-expected, please specify a format.\n",
      "  dt = pd.to_datetime(date_col + ' ' + time_col, errors='coerce')\n",
      "C:\\Users\\SBSBB\\AppData\\Local\\Temp\\ipykernel_23212\\3600371442.py:2: UserWarning: Could not infer format, so each element will be parsed individually, falling back to `dateutil`. To ensure parsing is consistent and as-expected, please specify a format.\n",
      "  dt = pd.to_datetime(date_col + ' ' + time_col, errors='coerce')\n"
     ]
    }
   ],
   "source": [
    "def parse_datetime(date_col, time_col):\n",
    "    dt = pd.to_datetime(date_col + ' ' + time_col, errors='coerce')\n",
    "    return dt\n",
    "\n",
    "india['admit_time'] = parse_datetime(india['doa'], india['toa'])\n",
    "india['discharge_time'] = parse_datetime(india['dodd'], india['todd'])\n",
    "india['los'] = (india['discharge_time'] - india['admit_time']).dt.total_seconds() / 3600\n",
    "india['los'] = india['los'].fillna(0)\n",
    "india['event'] = (india['died'] == 'Yes').astype(int)\n",
    "\n",
    "jordan['los'] = pd.to_numeric(jordan['length of stay in the hospital (in days)'], errors='coerce')\n",
    "jordan['event'] = (jordan['outcome'] == 'died').astype(int)\n",
    "\n",
    "india['sex'] = india['sex'].map({'Male':1,'Female':0})\n",
    "jordan['Gender'] = jordan['Gender'].map({'Male':1,'Female':0})\n",
    "\n",
    "features_india = india[['age','sex','sbp_1','hr_1','rr_1','gcs_t_1','moi']].copy()\n",
    "features_jordan = jordan[['age of diagnosis','Gender','ER-HR','ER-RR','ER-systolic BP','GCS in ER','type of trauma']].copy()\n",
    "features_jordan.columns = ['age','sex','hr','rr','sbp','gcs','source']\n",
    "features_india.columns = ['age','sex','sbp','hr','rr','gcs','source']\n"
   ]
  },
  {
   "cell_type": "code",
   "execution_count": 10,
   "id": "9988b04e",
   "metadata": {},
   "outputs": [],
   "source": [
    "# Ensure numeric conversion for Indian vital signs before categorization\n",
    "features_india['hr'] = pd.to_numeric(features_india['hr'], errors='coerce')\n",
    "features_india['rr'] = pd.to_numeric(features_india['rr'], errors='coerce')\n",
    "features_india['sbp'] = pd.to_numeric(features_india['sbp'], errors='coerce')\n",
    "features_india['age'] = pd.to_numeric(features_india['age'], errors='coerce')\n",
    "\n",
    "# Now apply the categorization functions\n",
    "features_india['hr_cat'] = [hr_category(a, h) for a, h in zip(features_india['age'], features_india['hr'])]\n",
    "features_india['rr_cat'] = [rr_category(a, r) for a, r in zip(features_india['age'], features_india['rr'])]\n",
    "features_india['sbp_cat'] = [sbp_category(a, s) for a, s in zip(features_india['age'], features_india['sbp'])]\n",
    "\n",
    "# For Jordan, use the existing categorical columns (assumed to be ER-HR, ER-RR, ER-systolic BP)\n",
    "features_jordan['hr_cat'] = features_jordan['hr']\n",
    "features_jordan['rr_cat'] = features_jordan['rr']\n",
    "features_jordan['sbp_cat'] = features_jordan['sbp']\n",
    "\n",
    "\n",
    "# Use correct argument for OneHotEncoder for scikit-learn >= 1.2\n",
    "from sklearn.preprocessing import OneHotEncoder\n",
    "\n",
    "cat_cols = ['hr_cat', 'rr_cat', 'sbp_cat','source']\n",
    "enc = OneHotEncoder(sparse_output=False, handle_unknown='ignore')\n",
    "\n",
    "# Fit on combined categories to ensure same columns\n",
    "enc.fit(pd.concat([features_india[cat_cols], features_jordan[cat_cols]], axis=0))\n",
    "\n",
    "X_india_cat = enc.transform(features_india[cat_cols])\n",
    "X_jordan_cat = enc.transform(features_jordan[cat_cols])\n",
    "\n",
    "# Replace original columns with encoded\n",
    "import numpy as np\n",
    "X_india_final = np.concatenate([features_india[['age','sex','gcs']].fillna(0).values, X_india_cat], axis=1)\n",
    "X_jordan_final = np.concatenate([features_jordan[['age','sex','gcs']].fillna(0).values, X_jordan_cat], axis=1)\n",
    "\n",
    "# Update y as before\n",
    "y_india = np.array([(bool(e), t) for e,t in zip(india['event'], india['los']/24)], dtype=[('event', bool), ('time', float)])\n",
    "y_jordan = np.array([(bool(e), t) for e,t in zip(jordan['event'], jordan['los'])], dtype=[('event', bool), ('time', float)])\n"
   ]
  },
  {
   "cell_type": "code",
   "execution_count": null,
   "id": "9ecf4cfd",
   "metadata": {},
   "outputs": [],
   "source": []
  },
  {
   "cell_type": "markdown",
   "id": "b4e851ad",
   "metadata": {},
   "source": [
    "## Exploratory analysis"
   ]
  },
  {
   "cell_type": "code",
   "execution_count": 11,
   "id": "ea44137d",
   "metadata": {},
   "outputs": [
    {
     "name": "stdout",
     "output_type": "stream",
     "text": [
      "India rows: 7301\n",
      "Jordan rows: 107\n",
      "Indian LOS summary (hours):\n",
      "count    7301.000000\n",
      "mean      168.716537\n",
      "std       308.287605\n",
      "min      -240.000000\n",
      "25%        43.500000\n",
      "50%       108.833333\n",
      "75%       191.666667\n",
      "max      8936.333333\n",
      "Name: los, dtype: float64\n",
      "Jordan LOS summary (days):\n",
      "count    107.000000\n",
      "mean      11.906265\n",
      "std       16.151716\n",
      "min        1.000000\n",
      "25%        4.000000\n",
      "50%        7.000000\n",
      "75%       12.000000\n",
      "max      126.000000\n",
      "Name: los, dtype: float64\n"
     ]
    },
    {
     "data": {
      "image/png": "[encoded data removed]",
      "text/plain": [
       "<Figure size 1200x400 with 2 Axes>"
      ]
     },
     "metadata": {},
     "output_type": "display_data"
    }
   ],
   "source": [
    "print('India rows:', len(india))\n",
    "print('Jordan rows:', len(jordan))\n",
    "\n",
    "print('Indian LOS summary (hours):')\n",
    "print(india['los'].describe())\n",
    "print('Jordan LOS summary (days):')\n",
    "print(jordan['los'].describe())\n",
    "\n",
    "fig, axes = plt.subplots(1,2, figsize=(12,4))\n",
    "axes[0].hist(india['los']/24, bins=30, color='skyblue')\n",
    "axes[0].set_title('India LOS (days)')\n",
    "axes[1].hist(jordan['los'], bins=15, color='salmon')\n",
    "axes[1].set_title('Jordan LOS (days)')\n",
    "plt.show()\n"
   ]
  },
  {
   "cell_type": "code",
   "execution_count": 12,
   "id": "7fdfc4e0",
   "metadata": {},
   "outputs": [
    {
     "data": {
      "image/png": "[encoded data removed]",
      "text/plain": [
       "<Figure size 640x480 with 1 Axes>"
      ]
     },
     "metadata": {},
     "output_type": "display_data"
    }
   ],
   "source": [
    "kmf = KaplanMeierFitter()\n",
    "kmf.fit(durations=india['los']/24, event_observed=india['event'], label='India')\n",
    "ax = kmf.plot()\n",
    "kmf.fit(durations=jordan['los'], event_observed=jordan['event'], label='Jordan')\n",
    "kmf.plot(ax=ax)\n",
    "ax.set_xlabel('Time (days)')\n",
    "ax.set_ylabel('Survival probability')\n",
    "plt.show()\n"
   ]
  },
  {
   "cell_type": "markdown",
   "id": "db29141b",
   "metadata": {},
   "source": [
    "## Baseline Cox model on Jordan data"
   ]
  },
  {
   "cell_type": "markdown",
   "id": "c1b162e3",
   "metadata": {},
   "source": [
    "## Transfer learning with gradient boosting"
   ]
  },
  {
   "cell_type": "code",
   "execution_count": 13,
   "id": "42210192",
   "metadata": {},
   "outputs": [],
   "source": [
    "# For India\n",
    "valid_india = india['los'] > 0\n",
    "X_india_gb = X_india_final[valid_india.values]\n",
    "y_india = np.array([(bool(e), t) for e, t in zip(india.loc[valid_india, 'event'], india.loc[valid_india, 'los']/24)], dtype=[('event', bool), ('time', float)])\n",
    "\n",
    "# For Jordan\n",
    "valid_jordan = jordan['los'] > 0\n",
    "X_jordan_gb = X_jordan_final[valid_jordan.values]\n",
    "y_jordan = np.array([(bool(e), t) for e, t in zip(jordan.loc[valid_jordan, 'event'], jordan.loc[valid_jordan, 'los'])], dtype=[('event', bool), ('time', float)])\n"
   ]
  },
  {
   "cell_type": "markdown",
   "id": "a73421f1",
   "metadata": {},
   "source": [
    "## Source→Target Transfer: Experimental Styles\n",
    "\n",
    "We compare three approaches for evaluating on the Target dataset:\n",
    "\n",
    "1. **Direct Transfer (No Fine-Tuning):**\n",
    "   - Train on Source only, test directly on Target.\n",
    "2. **Standard Fine-Tuning:**\n",
    "   - Pretrain on Source, then fine-tune on Target (add trees, warm_start), test on Target.\n",
    "3. **Weighted Fine-Tuning:**\n",
    "   - Pretrain on Source, then fine-tune on Target with higher sample weights for Target data, test on Target.\n",
    "\n",
    "This allows for a rigorous comparison of transfer learning strategies."
   ]
  },
  {
   "cell_type": "code",
   "execution_count": 14,
   "id": "007fcf93",
   "metadata": {},
   "outputs": [],
   "source": [
    "from sksurv.metrics import concordance_index_censored"
   ]
  },
  {
   "cell_type": "code",
   "execution_count": 15,
   "id": "fcc3db40",
   "metadata": {},
   "outputs": [
    {
     "name": "stdout",
     "output_type": "stream",
     "text": [
      "Jordan-only baseline (5-fold CV) C-index: 0.842 ± 0.166\n"
     ]
    }
   ],
   "source": [
    "# Baseline: Train and evaluate only on Jordan (5-fold cross-validation)\n",
    "from sklearn.model_selection import KFold\n",
    "\n",
    "kf = KFold(n_splits=5, shuffle=True, random_state=42)\n",
    "cindices = []\n",
    "for train_idx, test_idx in kf.split(X_jordan_gb):\n",
    "    gb_jordan = GradientBoostingSurvivalAnalysis(random_state=0, n_estimators=150)\n",
    "    gb_jordan.fit(X_jordan_gb[train_idx], y_jordan[train_idx])\n",
    "    preds = gb_jordan.predict(X_jordan_gb[test_idx])\n",
    "    cindex = concordance_index_censored(y_jordan['event'][test_idx], y_jordan['time'][test_idx], preds)[0]\n",
    "    cindices.append(cindex)\n",
    "print(f'Jordan-only baseline (5-fold CV) C-index: {np.mean(cindices):.3f} ± {np.std(cindices):.3f}')"
   ]
  },
  {
   "cell_type": "code",
   "execution_count": null,
   "id": "15792988",
   "metadata": {},
   "outputs": [
    {
     "name": "stdout",
     "output_type": "stream",
     "text": [
      "Weighted fine-tuning (India→Jordan, 5-fold CV) C-index: 0.933 ± 0.063\n"
     ]
    }
   ],
   "source": [
    "# Weighted fine-tuning: pretrain on Source, fine-tune on Target with sample weighting, test on Target\n",
    "from sklearn.utils import compute_sample_weight\n",
    "from sklearn.model_selection import KFold\n",
    "import numpy as np\n",
    "\n",
    "# Weighted fine-tuning (Source→Target) with 5-fold CV: pretrain on Source, fine-tune on each Target train fold with sample weighting, evaluate on test fold\n",
    "kf = KFold(n_splits=5, shuffle=True, random_state=42)\n",
    "cindices_weighted = []\n",
    "for train_idx, test_idx in kf.split(X_jordan_gb):\n",
    "    gb_weighted = GradientBoostingSurvivalAnalysis(random_state=0, n_estimators=100, warm_start=True)\n",
    "    gb_weighted.fit(X_india_gb, y_india)\n",
    "    gb_weighted.set_params(n_estimators=150)\n",
    "    sample_weight = compute_sample_weight(class_weight={1: 5, 0: 1}, y=y_jordan['event'][train_idx].astype(int))\n",
    "    gb_weighted.fit(X_jordan_gb[train_idx], y_jordan[train_idx], sample_weight=sample_weight)\n",
    "    preds = gb_weighted.predict(X_jordan_gb[test_idx])\n",
    "    cindex = concordance_index_censored(y_jordan['event'][test_idx], y_jordan['time'][test_idx], preds)[0]\n",
    "    cindices_weighted.append(cindex)\n",
    "print(f'Weighted fine-tuning (Source→Target, 5-fold CV) C-index: {np.mean(cindices_weighted):.3f} ± {np.std(cindices_weighted):.3f}')\n"
   ]
  },
  {
   "cell_type": "code",
   "execution_count": null,
   "id": "27e9e3e8",
   "metadata": {},
   "outputs": [
    {
     "name": "stdout",
     "output_type": "stream",
     "text": [
      "Standard fine-tuning (India→Jordan, 5-fold CV) C-index: 0.928 ± 0.059\n"
     ]
    }
   ],
   "source": [
    "# Standard fine-tuning (Source→Target) with 5-fold CV: pretrain on India, fine-tune on each Jordan train fold, evaluate on test fold\n",
    "from sklearn.model_selection import KFold\n",
    "\n",
    "kf = KFold(n_splits=5, shuffle=True, random_state=42)\n",
    "cindices_finetune = []\n",
    "for train_idx, test_idx in kf.split(X_jordan_gb):\n",
    "    gb_finetune = GradientBoostingSurvivalAnalysis(random_state=0, n_estimators=100, warm_start=True)\n",
    "    gb_finetune.fit(X_india_gb, y_india)\n",
    "    gb_finetune.set_params(n_estimators=150)\n",
    "    gb_finetune.fit(X_jordan_gb[train_idx], y_jordan[train_idx])\n",
    "    preds = gb_finetune.predict(X_jordan_gb[test_idx])\n",
    "    cindex = concordance_index_censored(y_jordan['event'][test_idx], y_jordan['time'][test_idx], preds)[0]\n",
    "    cindices_finetune.append(cindex)\n",
    "print(f'Standard fine-tuning (Source→Target, 5-fold CV) C-index: {np.mean(cindices_finetune):.3f} ± {np.std(cindices_finetune):.3f}')\n"
   ]
  },
  {
   "cell_type": "code",
   "execution_count": 18,
   "id": "b5686c50",
   "metadata": {},
   "outputs": [],
   "source": [
    "from scipy.stats import wilcoxon\n",
    "\n",
    "def compare_models(cindex_a, cindex_b, name_a=\"Model A\", name_b=\"Model B\"):\n",
    "    \"\"\"\n",
    "    Performs Wilcoxon signed-rank test to compare two models' C-index values across CV folds.\n",
    "    \n",
    "    Parameters:\n",
    "    - cindex_a: List or array of C-index scores for model A (e.g., baseline)\n",
    "    - cindex_b: List or array of C-index scores for model B (e.g., fine-tuned)\n",
    "    - name_a: Optional name for model A (used in print statements)\n",
    "    - name_b: Optional name for model B\n",
    "\n",
    "    Returns:\n",
    "    - None (prints result)\n",
    "    \"\"\"\n",
    "    stat, p = wilcoxon(cindex_a, cindex_b)\n",
    "    mean_diff = np.mean(np.array(cindex_b) - np.array(cindex_a))\n",
    "    print(f\"\\n📊 Comparing: {name_a} vs. {name_b}\")\n",
    "    print(f\"Mean difference in C-index: {mean_diff:.3f}\")\n",
    "    print(f\"Wilcoxon signed-rank test p-value: {p:.4f}\")\n",
    "    if p < 0.05:\n",
    "        print(\"✅ Statistically significant difference (p < 0.05)\")\n",
    "    else:\n",
    "        print(\"⚠️ No statistically significant difference (p ≥ 0.05)\")\n"
   ]
  },
  {
   "cell_type": "code",
   "execution_count": null,
   "id": "5ce86d6f",
   "metadata": {},
   "outputs": [
    {
     "name": "stdout",
     "output_type": "stream",
     "text": [
      "\n",
      "📊 Comparing: Jordan-only vs. Standard Fine-Tuning\n",
      "Mean difference in C-index: 0.086\n",
      "Wilcoxon signed-rank test p-value: 0.3750\n",
      "⚠️ No statistically significant difference (p ≥ 0.05)\n",
      "\n",
      "📊 Comparing: Jordan-only vs. Weighted Fine-Tuning\n",
      "Mean difference in C-index: 0.091\n",
      "Wilcoxon signed-rank test p-value: 0.1250\n",
      "⚠️ No statistically significant difference (p ≥ 0.05)\n",
      "\n",
      "📊 Comparing: Standard Fine-Tuning vs. Weighted Fine-Tuning\n",
      "Mean difference in C-index: 0.005\n",
      "Wilcoxon signed-rank test p-value: 1.0000\n",
      "⚠️ No statistically significant difference (p ≥ 0.05)\n"
     ]
    }
   ],
   "source": [
    "compare_models(\n",
    "    cindices,                # Source-only baseline\n",
    "    cindices_finetune,       # Standard fine-tuning\n",
    "    name_a=\"Target-only\",\n",
    "    name_b=\"Standard Fine-Tuning\"\n",
    ")\n",
    "\n",
    "compare_models(\n",
    "    cindices,                \n",
    "    cindices_weighted,       \n",
    "    name_a=\"Target-only\",\n",
    "    name_b=\"Weighted Fine-Tuning\"\n",
    ")\n",
    "\n",
    "compare_models(\n",
    "    cindices_finetune,\n",
    "    cindices_weighted,\n",
    "    name_a=\"Standard Fine-Tuning\",\n",
    "    name_b=\"Weighted Fine-Tuning\"\n",
    ")\n"
   ]
  },
  {
   "cell_type": "code",
   "execution_count": null,
   "id": "80fd2c46",
   "metadata": {},
   "outputs": [],
   "source": []
  },
  {
   "cell_type": "code",
   "execution_count": null,
   "id": "1ca67316",
   "metadata": {},
   "outputs": [
    {
     "data": {
      "image/png": "[encoded data removed]",
      "text/plain": [
       "<Figure size 1000x600 with 1 Axes>"
      ]
     },
     "metadata": {},
     "output_type": "display_data"
    }
   ],
   "source": [
    "from sksurv.metrics import cumulative_dynamic_auc\n",
    "import matplotlib.pyplot as plt\n",
    "import numpy as np\n",
    "\n",
    "# Time points: 1 to 50 days\n",
    "time_points = np.arange(1, 51)\n",
    "\n",
    "# Predict risk scores for each model\n",
    "pred_baseline = gb_jordan.predict(X_jordan_gb)\n",
    "pred_standard = gb_finetune.predict(X_jordan_gb)\n",
    "pred_weighted = gb_weighted.predict(X_jordan_gb)\n",
    "\n",
    "# Function to compute dynamic AUC curve\n",
    "def compute_dynamic_auc(y_train, y_test, risk, time_points):\n",
    "    auc_curve = []\n",
    "    for t in time_points:\n",
    "        _, auc = cumulative_dynamic_auc(y_train, y_test, risk, times=t)\n",
    "        auc_curve.append(auc)\n",
    "    return np.array(auc_curve)\n",
    "\n",
    "# Calculate AUC curves\n",
    "auc_baseline = compute_dynamic_auc(y_jordan, y_jordan, pred_baseline, time_points)\n",
    "auc_standard = compute_dynamic_auc(y_india, y_jordan, pred_standard, time_points)\n",
    "auc_weighted = compute_dynamic_auc(y_india, y_jordan, pred_weighted, time_points)\n",
    "\n",
    "# Plot all together\n",
    "plt.figure(figsize=(10, 6))\n",
    "plt.plot(time_points, auc_baseline, label='Target-only Baseline', marker='o')\n",
    "plt.plot(time_points, auc_standard, label='Standard TL (Source → Target)', marker='s')\n",
    "plt.plot(time_points, auc_weighted, label='Weighted TL (Source → Target)', marker='^')\n",
    "\n",
    "plt.axhline(0.5, ls='--', color='gray')\n",
    "plt.title('Dynamic AUC Comparison (First 50 Days)')\n",
    "plt.xlabel('Time (days)')\n",
    "plt.ylabel('AUC')\n",
    "plt.ylim(0.3, 1.0)\n",
    "plt.grid(True)\n",
    "plt.legend()\n",
    "plt.show()\n"
   ]
  },
  {
   "cell_type": "code",
   "execution_count": 21,
   "id": "5dd69b0b",
   "metadata": {},
   "outputs": [
    {
     "data": {
      "image/png": "[encoded data removed]",
      "text/plain": [
       "<Figure size 800x500 with 1 Axes>"
      ]
     },
     "metadata": {},
     "output_type": "display_data"
    }
   ],
   "source": [
    "# Fit GradientBoostingSurvivalAnalysis with standard fine-tuning on all data for feature importance\n",
    "# (Pretrain on India, then fine-tune on all Jordan data)\n",
    "gb_transfer = GradientBoostingSurvivalAnalysis(n_estimators=100, warm_start=True, random_state=42)\n",
    "gb_transfer.fit(X_india_gb, y_india)\n",
    "gb_transfer.set_params(n_estimators=150)\n",
    "gb_transfer.fit(X_jordan_gb, y_jordan)\n",
    "\n",
    "# Get feature names (numeric + one-hot encoded)\n",
    "feature_names = ['age', 'sex', 'gcs'] + list(enc.get_feature_names_out(['hr_cat', 'rr_cat', 'sbp_cat','source']))\n",
    "\n",
    "# Extract importances\n",
    "importances = gb_transfer.feature_importances_\n",
    "\n",
    "# Create DataFrame for plotting\n",
    "imp_df = pd.DataFrame({'feature': feature_names, 'importance': importances})\n",
    "imp_df = imp_df.sort_values('importance', ascending=False)\n",
    "\n",
    "# Plot feature importances\n",
    "plt.figure(figsize=(8,5))\n",
    "plt.barh(imp_df['feature'], imp_df['importance'])\n",
    "plt.xlabel('Feature Importance')\n",
    "plt.title('Feature Importances (Gradient Boosted Standard TL)')\n",
    "plt.gca().invert_yaxis()\n",
    "plt.show()"
   ]
  },
  {
   "cell_type": "markdown",
   "id": "c4076a9d",
   "metadata": {},
   "source": [
    "<h1>Compare Gradient Boosting vs Random Forest "
   ]
  },
  {
   "cell_type": "code",
   "execution_count": 22,
   "id": "d5bd3d30",
   "metadata": {},
   "outputs": [
    {
     "name": "stdout",
     "output_type": "stream",
     "text": [
      "                   Model  Train_Ratio   C-Index\n",
      "0       GradientBoosting         0.05  0.872642\n",
      "1   RandomSurvivalForest         0.05  0.500000\n",
      "2       GradientBoosting         0.10  0.405660\n",
      "3   RandomSurvivalForest         0.10  0.443396\n",
      "4       GradientBoosting         0.25  0.683962\n",
      "5   RandomSurvivalForest         0.25  0.792453\n",
      "6       GradientBoosting         0.50  0.363208\n",
      "7   RandomSurvivalForest         0.50  0.867925\n",
      "8       GradientBoosting         0.75  0.985849\n",
      "9   RandomSurvivalForest         0.75  0.943396\n",
      "10      GradientBoosting         0.90  0.971698\n",
      "11  RandomSurvivalForest         0.90  0.943396\n"
     ]
    }
   ],
   "source": [
    "import numpy as np\n",
    "import pandas as pd\n",
    "from sklearn.model_selection import train_test_split\n",
    "from sksurv.ensemble import GradientBoostingSurvivalAnalysis, RandomSurvivalForest\n",
    "from sksurv.metrics import concordance_index_censored\n",
    "\n",
    "# Replace these with your real variables if not already defined:\n",
    "# X_jordan_gb, y_jordan = <your real data here>\n",
    "\n",
    "# Few-shot learning ratios\n",
    "ratios = [0.05, 0.10, 0.25, 0.50, 0.75, 0.90]\n",
    "results = []\n",
    "\n",
    "# Split base train/test once\n",
    "X_train_full, X_test, y_train_full, y_test = train_test_split(X_jordan_gb, y_jordan, test_size=0.2, random_state=42)\n",
    "\n",
    "def evaluate_model(model_class, X_train, y_train, model_name, ratio):\n",
    "    model = model_class(n_estimators=100, random_state=42)\n",
    "    model.fit(X_train, y_train)\n",
    "    preds = model.predict(X_test)\n",
    "    cindex = concordance_index_censored(y_test[\"event\"], y_test[\"time\"], preds)[0]\n",
    "    return {\"Model\": model_name, \"Train_Ratio\": ratio, \"C-Index\": cindex}\n",
    "\n",
    "# Train both models on few-shot subsets\n",
    "for ratio in ratios:\n",
    "    X_sub, _, y_sub, _ = train_test_split(X_train_full, y_train_full, train_size=ratio, random_state=42)\n",
    "    results.append(evaluate_model(GradientBoostingSurvivalAnalysis, X_sub, y_sub, \"GradientBoosting\", ratio))\n",
    "    results.append(evaluate_model(RandomSurvivalForest, X_sub, y_sub, \"RandomSurvivalForest\", ratio))\n",
    "\n",
    "# Results DataFrame\n",
    "df = pd.DataFrame(results)\n",
    "print(df)\n"
   ]
  },
  {
   "cell_type": "markdown",
   "id": "2c71ba47",
   "metadata": {},
   "source": [
    "Conclusion -<br> \n",
    "Gradient Boosting excels in very low (5%) and high (75–90%) data regimes.\n",
    "\n",
    "RSF consistently outperforms Gradient Boosting in mid-range ratios (10%–50%), particularly at 50% where GB performs poorly (0.36 vs 0.87)."
   ]
  },
  {
   "cell_type": "markdown",
   "id": "18c159ad",
   "metadata": {},
   "source": [
    "<h1>Few shot ratio with Gradient Boosting"
   ]
  },
  {
   "cell_type": "code",
   "execution_count": 23,
   "id": "e4f23eb5",
   "metadata": {},
   "outputs": [],
   "source": [
    "from sklearn.model_selection import StratifiedShuffleSplit\n",
    "y_events = y_jordan[\"event\"].astype(int)  # Convert boolean to int for stratification\n"
   ]
  },
  {
   "cell_type": "code",
   "execution_count": null,
   "id": "7072c12f",
   "metadata": {},
   "outputs": [
    {
     "name": "stdout",
     "output_type": "stream",
     "text": [
      "Standard fine-tuning (India→Jordan, ratio=0.05) C-index: 0.934 ± 0.000\n",
      "Standard fine-tuning (India→Jordan, ratio=0.10) C-index: 0.934 ± 0.000\n",
      "Standard fine-tuning (India→Jordan, ratio=0.25) C-index: 0.915 ± 0.000\n",
      "Standard fine-tuning (India→Jordan, ratio=0.50) C-index: 0.962 ± 0.000\n",
      "Standard fine-tuning (India→Jordan, ratio=0.75) C-index: 0.991 ± 0.000\n",
      "Standard fine-tuning (India→Jordan, ratio=0.90) C-index: 0.991 ± 0.000\n"
     ]
    }
   ],
   "source": [
    "for ratio in ratios:\n",
    "    \n",
    "    #X_fewshot, _, y_fewshot, _ = train_test_split(X_jordan_gb, y_jordan, train_size=ratio, random_state=42)\n",
    "    sss = StratifiedShuffleSplit(n_splits=1, train_size=ratio, random_state=42)\n",
    "    train_idx, _ = next(sss.split(X_jordan_gb, y_events))\n",
    "    \n",
    "    X_fewshot = X_jordan_gb[train_idx]\n",
    "    y_fewshot = y_jordan[train_idx]\n",
    "    model = GradientBoostingSurvivalAnalysis(n_estimators=100, warm_start=True, random_state=42)\n",
    "    model.fit(X_india_gb, y_india)  \n",
    "    model.set_params(n_estimators=150)  \n",
    "    model.fit(X_fewshot, y_fewshot)    \n",
    "\n",
    "    preds = model.predict(X_test)\n",
    "    cindex = concordance_index_censored(y_test[\"event\"], y_test[\"time\"], preds)[0]\n",
    "    print(f'Standard fine-tuning (Source→Target, ratio={ratio:.2f}) C-index: {np.mean(cindex):.3f} ± {np.std(cindex):.3f}')\n",
    "\n"
   ]
  },
  {
   "cell_type": "markdown",
   "id": "94830ddb",
   "metadata": {},
   "source": [
    "<h1> Few shot learning with Baseline, Standard Transfer Learning and Weihted Transfer Learning"
   ]
  },
  {
   "cell_type": "code",
   "execution_count": 25,
   "id": "8166837e",
   "metadata": {},
   "outputs": [],
   "source": [
    "# Function to compute dynamic AUC curve\n",
    "def compute_dynamic_auc_v(y_train, y_test, risk, time_points):\n",
    "    auc_curve = []\n",
    "    for t in time_points:\n",
    "        _, auc = cumulative_dynamic_auc(y_train, y_test, risk, times=t)\n",
    "        auc_curve.append(auc)\n",
    "    return np.array(auc_curve)\n",
    "\n",
    "\n"
   ]
  },
  {
   "cell_type": "code",
   "execution_count": null,
   "id": "a6e25175",
   "metadata": {},
   "outputs": [],
   "source": [
    "import matplotlib.pyplot as plt\n",
    "from sksurv.metrics import cumulative_dynamic_auc\n",
    "from sklearn.utils import compute_sample_weight\n",
    "\n",
    "# Pre-split for reproducibility\n",
    "X_train_full, X_test, y_train_full, y_test = train_test_split(\n",
    "    X_jordan_gb, y_jordan, test_size=0.2, random_state=42\n",
    ")\n",
    "\n",
    "# Compute valid evaluation times once\n",
    "min_time = y_test[\"time\"].min()\n",
    "max_time = y_test[\"time\"].max()\n",
    "eval_times = np.linspace(min_time, max_time - 1e-6, num=50)\n",
    "\n",
    "ratios = [0.05, 0.10, 0.25, 0.50, 0.75, 0.90]\n",
    "results = []\n",
    "\n",
    "for ratio in ratios:\n",
    "    sss = StratifiedShuffleSplit(n_splits=1, train_size=ratio, random_state=42)\n",
    "    train_idx, _ = next(sss.split(X_jordan_gb, y_events))\n",
    "    X_fewshot = X_jordan_gb[train_idx]\n",
    "    y_fewshot = y_jordan[train_idx]\n",
    "\n",
    "    # Baseline model\n",
    "    model_baseline = GradientBoostingSurvivalAnalysis(n_estimators=100, random_state=42)\n",
    "    model_baseline.fit(X_fewshot, y_fewshot)\n",
    "    pred_baseline = model_baseline.predict(X_jordan_gb)\n",
    "\n",
    "    # Transfer learning model\n",
    "    model_transfer = GradientBoostingSurvivalAnalysis(n_estimators=100, warm_start=True, random_state=42)\n",
    "    model_transfer.fit(X_india_gb, y_india)\n",
    "    model_transfer.set_params(n_estimators=150)\n",
    "    model_transfer.fit(X_fewshot, y_fewshot)\n",
    "    pred_transfer = model_transfer.predict(X_jordan_gb)\n",
    "    \n",
    "    \n",
    "    # Transfer learning model - Weighted \n",
    "    model_transfer_w = GradientBoostingSurvivalAnalysis(n_estimators=100, warm_start=True, random_state=42)\n",
    "    model_transfer_w.fit(X_india_gb, y_india)\n",
    "    model_transfer_w.set_params(n_estimators=150)\n",
    "    sample_weight = compute_sample_weight(class_weight={1: 5, 0: 1}, y=y_fewshot['event'].astype(int))\n",
    "    model_transfer_w.fit(X_fewshot, y_fewshot, sample_weight=sample_weight)\n",
    "    pred_transfer_w = model_transfer_w.predict(X_jordan_gb)\n",
    "    \n",
    "\n",
    "    # Dynamic AUC\n",
    "    auc_base = compute_dynamic_auc_v(y_jordan, y_jordan, pred_baseline, time_points=eval_times)\n",
    "    auc_trans = compute_dynamic_auc_v(y_india, y_jordan, pred_transfer, time_points=eval_times)\n",
    "    auc_weithed = compute_dynamic_auc_v(y_india, y_jordan, pred_transfer_w, time_points=eval_times)\n",
    "    \n",
    "    # Save average AUC for table\n",
    "    results.append({\n",
    "        \"Train_Ratio\": ratio,\n",
    "        \"Approach\": \"Baseline\",\n",
    "        \"AUC\": np.mean(auc_base)\n",
    "    })\n",
    "    results.append({\n",
    "        \"Train_Ratio\": ratio,\n",
    "        \"Approach\": \"Transfer\",\n",
    "        \"AUC\": np.mean(auc_trans)\n",
    "    })\n",
    "    results.append({\n",
    "        \"Train_Ratio\": ratio,\n",
    "        \"Approach\": \" Weighted Transfer\",\n",
    "        \"AUC\": np.mean(auc_weithed)\n",
    "    })\n",
    "    \n",
    "\n",
    "    # Plot\n",
    "    plt.figure(figsize=(10, 6), dpi=300)\n",
    "    plt.plot(eval_times, auc_base, label='Target-only Baseline', marker='o')\n",
    "    plt.plot(eval_times, auc_trans, label='Standard TL (Source → Target)', marker='s')\n",
    "    plt.plot(eval_times, auc_weithed, label='Weighted TL (Source → Target)', marker='^')\n",
    "\n",
    "    plt.axhline(0.5, ls='--', color='gray')\n",
    "    plt.title(f'Dynamic AUC Comparison at Ratio {ratio:.2f}')\n",
    "    plt.xlabel('Time')\n",
    "    plt.ylabel('AUC')\n",
    "    plt.ylim(0.3, 1.0)\n",
    "    plt.grid(True)\n",
    "    plt.legend()\n",
    "    plt.show()\n"
   ]
  },
  {
   "cell_type": "code",
   "execution_count": null,
   "id": "8315f6f7",
   "metadata": {},
   "outputs": [
    {
     "data": {
      "application/vnd.microsoft.datawrangler.viewer.v0+json": {
       "columns": [
        {
         "name": "index",
         "rawType": "int64",
         "type": "integer"
        },
        {
         "name": "Train_Ratio",
         "rawType": "float64",
         "type": "float"
        },
        {
         "name": "Approach",
         "rawType": "object",
         "type": "string"
        },
        {
         "name": "AUC",
         "rawType": "float64",
         "type": "float"
        }
       ],
       "ref": "0b732e52-f465-4d2e-8827-730231c9a62d",
       "rows": [
        [
         "0",
         "0.05",
         "Baseline",
         "0.7716057503829454"
        ],
        [
         "1",
         "0.05",
         "Transfer",
         "0.9311790394433153"
        ],
        [
         "2",
         "0.05",
         " Weighted Transfer",
         "0.9311790394433153"
        ],
        [
         "3",
         "0.1",
         "Baseline",
         "0.8557336595964327"
        ],
        [
         "4",
         "0.1",
         "Transfer",
         "0.9329669468677457"
        ],
        [
         "5",
         "0.1",
         " Weighted Transfer",
         "0.9249684375358828"
        ],
        [
         "6",
         "0.25",
         "Baseline",
         "0.6608525404115594"
        ],
        [
         "7",
         "0.25",
         "Transfer",
         "0.9017011365244463"
        ],
        [
         "8",
         "0.25",
         " Weighted Transfer",
         "0.9013807900755154"
        ],
        [
         "9",
         "0.5",
         "Baseline",
         "0.9770370500033877"
        ],
        [
         "10",
         "0.5",
         "Transfer",
         "0.9624020610065633"
        ],
        [
         "11",
         "0.5",
         " Weighted Transfer",
         "0.9616308543631117"
        ],
        [
         "12",
         "0.75",
         "Baseline",
         "0.9880894232639134"
        ],
        [
         "13",
         "0.75",
         "Transfer",
         "0.9619270638031509"
        ],
        [
         "14",
         "0.75",
         " Weighted Transfer",
         "0.9688984813003623"
        ],
        [
         "15",
         "0.9",
         "Baseline",
         "0.9908313947997246"
        ],
        [
         "16",
         "0.9",
         "Transfer",
         "0.9673254239515486"
        ],
        [
         "17",
         "0.9",
         " Weighted Transfer",
         "0.9799473227642974"
        ]
       ],
       "shape": {
        "columns": 3,
        "rows": 18
       }
      },
      "text/html": [
       "<div>\n",
       "<style scoped>\n",
       "    .dataframe tbody tr th:only-of-type {\n",
       "        vertical-align: middle;\n",
       "    }\n",
       "\n",
       "    .dataframe tbody tr th {\n",
       "        vertical-align: top;\n",
       "    }\n",
       "\n",
       "    .dataframe thead th {\n",
       "        text-align: right;\n",
       "    }\n",
       "</style>\n",
       "<table border=\"1\" class=\"dataframe\">\n",
       "  <thead>\n",
       "    <tr style=\"text-align: right;\">\n",
       "      <th></th>\n",
       "      <th>Train_Ratio</th>\n",
       "      <th>Approach</th>\n",
       "      <th>AUC</th>\n",
       "    </tr>\n",
       "  </thead>\n",
       "  <tbody>\n",
       "    <tr>\n",
       "      <th>0</th>\n",
       "      <td>0.05</td>\n",
       "      <td>Baseline</td>\n",
       "      <td>0.771606</td>\n",
       "    </tr>\n",
       "    <tr>\n",
       "      <th>1</th>\n",
       "      <td>0.05</td>\n",
       "      <td>Transfer</td>\n",
       "      <td>0.931179</td>\n",
       "    </tr>\n",
       "    <tr>\n",
       "      <th>2</th>\n",
       "      <td>0.05</td>\n",
       "      <td>Weighted Transfer</td>\n",
       "      <td>0.931179</td>\n",
       "    </tr>\n",
       "    <tr>\n",
       "      <th>3</th>\n",
       "      <td>0.10</td>\n",
       "      <td>Baseline</td>\n",
       "      <td>0.855734</td>\n",
       "    </tr>\n",
       "    <tr>\n",
       "      <th>4</th>\n",
       "      <td>0.10</td>\n",
       "      <td>Transfer</td>\n",
       "      <td>0.932967</td>\n",
       "    </tr>\n",
       "    <tr>\n",
       "      <th>5</th>\n",
       "      <td>0.10</td>\n",
       "      <td>Weighted Transfer</td>\n",
       "      <td>0.924968</td>\n",
       "    </tr>\n",
       "    <tr>\n",
       "      <th>6</th>\n",
       "      <td>0.25</td>\n",
       "      <td>Baseline</td>\n",
       "      <td>0.660853</td>\n",
       "    </tr>\n",
       "    <tr>\n",
       "      <th>7</th>\n",
       "      <td>0.25</td>\n",
       "      <td>Transfer</td>\n",
       "      <td>0.901701</td>\n",
       "    </tr>\n",
       "    <tr>\n",
       "      <th>8</th>\n",
       "      <td>0.25</td>\n",
       "      <td>Weighted Transfer</td>\n",
       "      <td>0.901381</td>\n",
       "    </tr>\n",
       "    <tr>\n",
       "      <th>9</th>\n",
       "      <td>0.50</td>\n",
       "      <td>Baseline</td>\n",
       "      <td>0.977037</td>\n",
       "    </tr>\n",
       "    <tr>\n",
       "      <th>10</th>\n",
       "      <td>0.50</td>\n",
       "      <td>Transfer</td>\n",
       "      <td>0.962402</td>\n",
       "    </tr>\n",
       "    <tr>\n",
       "      <th>11</th>\n",
       "      <td>0.50</td>\n",
       "      <td>Weighted Transfer</td>\n",
       "      <td>0.961631</td>\n",
       "    </tr>\n",
       "    <tr>\n",
       "      <th>12</th>\n",
       "      <td>0.75</td>\n",
       "      <td>Baseline</td>\n",
       "      <td>0.988089</td>\n",
       "    </tr>\n",
       "    <tr>\n",
       "      <th>13</th>\n",
       "      <td>0.75</td>\n",
       "      <td>Transfer</td>\n",
       "      <td>0.961927</td>\n",
       "    </tr>\n",
       "    <tr>\n",
       "      <th>14</th>\n",
       "      <td>0.75</td>\n",
       "      <td>Weighted Transfer</td>\n",
       "      <td>0.968898</td>\n",
       "    </tr>\n",
       "    <tr>\n",
       "      <th>15</th>\n",
       "      <td>0.90</td>\n",
       "      <td>Baseline</td>\n",
       "      <td>0.990831</td>\n",
       "    </tr>\n",
       "    <tr>\n",
       "      <th>16</th>\n",
       "      <td>0.90</td>\n",
       "      <td>Transfer</td>\n",
       "      <td>0.967325</td>\n",
       "    </tr>\n",
       "    <tr>\n",
       "      <th>17</th>\n",
       "      <td>0.90</td>\n",
       "      <td>Weighted Transfer</td>\n",
       "      <td>0.979947</td>\n",
       "    </tr>\n",
       "  </tbody>\n",
       "</table>\n",
       "</div>"
      ],
      "text/plain": [
       "    Train_Ratio            Approach       AUC\n",
       "0          0.05            Baseline  0.771606\n",
       "1          0.05            Transfer  0.931179\n",
       "2          0.05   Weighted Transfer  0.931179\n",
       "3          0.10            Baseline  0.855734\n",
       "4          0.10            Transfer  0.932967\n",
       "5          0.10   Weighted Transfer  0.924968\n",
       "6          0.25            Baseline  0.660853\n",
       "7          0.25            Transfer  0.901701\n",
       "8          0.25   Weighted Transfer  0.901381\n",
       "9          0.50            Baseline  0.977037\n",
       "10         0.50            Transfer  0.962402\n",
       "11         0.50   Weighted Transfer  0.961631\n",
       "12         0.75            Baseline  0.988089\n",
       "13         0.75            Transfer  0.961927\n",
       "14         0.75   Weighted Transfer  0.968898\n",
       "15         0.90            Baseline  0.990831\n",
       "16         0.90            Transfer  0.967325\n",
       "17         0.90   Weighted Transfer  0.979947"
      ]
     },
     "execution_count": 31,
     "metadata": {},
     "output_type": "execute_result"
    }
   ],
   "source": [
    "pd.DataFrame(results)"
   ]
  },
  {
   "cell_type": "markdown",
   "id": "4fef0d79",
   "metadata": {},
   "source": [
    "<h1>Few shot learning with different survival models"
   ]
  },
  {
   "cell_type": "code",
   "execution_count": null,
   "id": "98f2f7d2",
   "metadata": {},
   "outputs": [],
   "source": [
    "from sksurv.linear_model import CoxPHSurvivalAnalysis, CoxnetSurvivalAnalysis\n",
    "from sksurv.svm import FastSurvivalSVM\n",
    "\n",
    "model_list = [\n",
    "    (\"GradientBoosting\", GradientBoostingSurvivalAnalysis),\n",
    "    (\"RandomSurvivalForest\", RandomSurvivalForest),\n",
    "    (\"Coxnet\", CoxnetSurvivalAnalysis),\n",
    "    (\"FastSVM\", FastSurvivalSVM)\n",
    "]\n",
    "X_train_full, X_test, y_train_full, y_test = train_test_split(X_jordan_gb, y_jordan, test_size=0.2, random_state=42)\n",
    "\n",
    "# Store results\n",
    "results = []\n",
    "\n",
    "for ratio in ratios:\n",
    "    X_sub, _, y_sub, _ = train_test_split(X_train_full, y_train_full, train_size=ratio, random_state=42)\n",
    "    \n",
    "    for model_name, model_class in model_list:\n",
    "        try:\n",
    "            model = model_class()\n",
    "            if hasattr(model, \"n_estimators\"):\n",
    "                model.set_params(n_estimators=100)\n",
    "            if model_name == \"Coxnet\":\n",
    "                model.set_params(l1_ratio=0.5)  # example regularization setup\n",
    "            if model_name == \"FastSVM\":\n",
    "                model.set_params(alpha=1.0, rank_ratio=0.5)\n",
    "            \n",
    "            model.fit(X_sub, y_sub)\n",
    "            preds = model.predict(X_test)\n",
    "            cindex = concordance_index_censored(y_test[\"event\"], y_test[\"time\"], preds)[0]\n",
    "            results.append({\"Model\": model_name, \"Train_Ratio\": ratio, \"C-Index\": cindex})\n",
    "        \n",
    "        except Exception as e:\n",
    "            print(f\"Model {model_name} failed at ratio {ratio}: {e}\")\n"
   ]
  },
  {
   "cell_type": "code",
   "execution_count": null,
   "id": "531f83c9",
   "metadata": {},
   "outputs": [
    {
     "name": "stdout",
     "output_type": "stream",
     "text": [
      "Model          Coxnet   FastSVM  GradientBoosting  RandomSurvivalForest\n",
      "Train_Ratio                                                            \n",
      "0.05         0.363208  0.509434          0.891509              0.500000\n",
      "0.10         0.547170  0.481132          0.405660              0.575472\n",
      "0.25         0.745283  0.396226          0.683962              0.915094\n",
      "0.50         0.688679  0.330189          0.363208              0.867925\n",
      "0.75         0.773585  0.207547          0.985849              0.924528\n",
      "0.90         0.783019  0.198113          0.971698              0.915094\n"
     ]
    }
   ],
   "source": [
    "# Convert to DataFrame\n",
    "df = pd.DataFrame(results)\n",
    "\n",
    "# Optional: pivot to visualize by model vs train ratio\n",
    "df_pivot = df.pivot(index='Train_Ratio', columns='Model', values='C-Index')\n",
    "print(df_pivot)"
   ]
  },
  {
   "cell_type": "markdown",
   "id": "8e8ef6f3",
   "metadata": {},
   "source": [
    "Gradient Boosting is the best-performing model at high data ratios (≥75%), achieving C-indices of 0.986 and 0.972 at 75% and 90%, respectively.\n",
    "\n",
    "Random Survival Forest (RSF) dominates at moderate training sizes (25–50%), peaking at 0.906 with 25% training data.\n",
    "\n",
    "Coxnet shows stable and moderate performance, improving with more data but never outperforming tree-based models.\n",
    "\n",
    "FastSVM consistently underperforms all other models, especially at higher training ratios, where its C-index drops below 0.20.\n",
    "\n",
    "Overall, Gradient Boosting and RSF are the most effective models, with their strengths depending on the amount of available training data."
   ]
  },
  {
   "cell_type": "code",
   "execution_count": null,
   "id": "cce91771",
   "metadata": {},
   "outputs": [],
   "source": []
  },
  {
   "cell_type": "code",
   "execution_count": null,
   "id": "54f64af7",
   "metadata": {},
   "outputs": [
    {
     "data": {
      "text/plain": [
       "Index(['ID', 'Age', 'Gender', 'Race', 'BMI', 'Date of Admission',\n",
       "       'Date of Hospital Discharge', 'PEG', 'TRACH', 'PEG ORDERS PLACED',\n",
       "       'TRACH ORDERS PLACED', 'PEG DATE', 'TRACH DATE', 'PEG TIME',\n",
       "       'TRACH TIME', 'PEG SERVICE', 'TRACH SERVICE', 'Discharge Disposition',\n",
       "       'Discharge Status Code', 'GCS', 'GCS Qualifier', 'ISS',\n",
       "       '#CO-MORBIDITIES', 'ICU LOS Days', 'Hospital LOS Days',\n",
       "       '#Of total complications', 'Date Decannulation', 'Date of oral intake',\n",
       "       'Date of Death', 'Date of readmission', 'Comorbidities List',\n",
       "       'Charlson_Comorbidity_Index', 'DischargeGCS', 'VAP',\n",
       "       'Total_Neutrophils', 'Total_Lymphocytes', 'NLR', 'Skull_Base_Fracture',\n",
       "       'Skull_Vault_Fracture', 'Hematoma', 'Subdural_Hematoma',\n",
       "       'Epidural_Hematoma', 'Intracerebral_Hemorrhage', 'Hemorrhage',\n",
       "       'Subarachnoid_Hemorrhage', 'Intraventricular_Hemorrhage', 'Brain_Edema',\n",
       "       'Contusion_Type', 'Contusion', 'DAI', 'Pneumocephalus',\n",
       "       'Cranial_Nerve_Injury', 'Scalp_Injury_Type', 'Scalp_Injury',\n",
       "       'Penetrating_Injury', 'Vascular_Injury/Occlusion', 'Concussions',\n",
       "       'Brain_Stem_Injury', 'Ischemia'],\n",
       "      dtype='object')"
      ]
     },
     "execution_count": 34,
     "metadata": {},
     "output_type": "execute_result"
    }
   ],
   "source": [
    "tgh_df = pd.read_csv(\"updated_dataset (1).csv\")\n",
    "tgh_df.columns\n"
   ]
  }
 ],
 "metadata": {
  "kernelspec": {
   "display_name": "base",
   "language": "python",
   "name": "python3"
  },
  "language_info": {
   "codemirror_mode": {
    "name": "ipython",
    "version": 3
   },
   "file_extension": ".py",
   "mimetype": "text/x-python",
   "name": "python",
   "nbconvert_exporter": "python",
   "pygments_lexer": "ipython3",
   "version": "3.10.16"
  }
 },
 "nbformat": 4,
 "nbformat_minor": 5
}
