{
 "cells": [
  {
   "cell_type": "markdown",
   "id": "ab54073a",
   "metadata": {},
   "source": [
    "# Trauma Transfer Learning Experiment"
   ]
  },
  {
   "cell_type": "markdown",
   "id": "d2a5df50",
   "metadata": {},
   "source": [
    "This notebook compares baseline survival models and a transfer learning approach using Indian and Jordan trauma datasets."
   ]
  },
  {
   "cell_type": "code",
   "execution_count": 51,
   "id": "93393ef1",
   "metadata": {},
   "outputs": [],
   "source": [
    "import pandas as pd\n",
    "import numpy as np\n",
    "import matplotlib.pyplot as plt\n",
    "import seaborn as sns\n",
    "from lifelines import CoxPHFitter, KaplanMeierFitter\n",
    "from lifelines.utils import concordance_index\n",
    "from sksurv.ensemble import GradientBoostingSurvivalAnalysis\n",
    "#\n",
    "sns.set(style='whitegrid')\n"
   ]
  },
  {
   "cell_type": "markdown",
   "id": "7c8513b4",
   "metadata": {},
   "source": [
    "## Load datasets"
   ]
  },
  {
   "cell_type": "code",
   "execution_count": 52,
   "id": "0565143e",
   "metadata": {},
   "outputs": [],
   "source": [
    "india_file = 'trauma_india_brain_injury.csv'\n",
    "jordan_file = 'traumatic_brain_injury.csv'\n",
    "\n",
    "cols_india = ['age','sex','sbp_1','hr_1','rr_1','gcs_t_1','doa','toa','dodd','todd','moi','died']\n",
    "india = pd.read_csv(india_file, usecols=cols_india)\n",
    "\n",
    "cols_jordan = ['Gender','age of diagnosis','ER-HR','ER-RR','ER-systolic BP','GCS in ER','type of trauma','length of stay in the hospital (in days)','outcome']\n",
    "jordan = pd.read_csv(jordan_file, usecols=cols_jordan)\n"
   ]
  },
  {
   "cell_type": "code",
   "execution_count": 53,
   "id": "e012fd09",
   "metadata": {},
   "outputs": [
    {
     "name": "stdout",
     "output_type": "stream",
     "text": [
      "   Gender  age of diagnosis   type of trauma  GCS in ER        ER-HR  \\\n",
      "0  Female               6.0  RTA(PEDASTRAIN)       15.0  tachycardia   \n",
      "1    Male               7.0  RTA(PEDASTRAIN)       15.0       normal   \n",
      "2    Male              13.0     falling down        3.0       normal   \n",
      "3    Male               9.0              RTA       13.0       normal   \n",
      "4    Male               1.5     falling down       15.0       normal   \n",
      "\n",
      "       ER-RR ER-systolic BP  length of stay in the hospital (in days)  \\\n",
      "0  tachypnea         normal                                       5.0   \n",
      "1     normal         normal                                       7.0   \n",
      "2     normal         normal                                       7.0   \n",
      "3     normal         normal                                      28.0   \n",
      "4     normal         normal                                       3.0   \n",
      "\n",
      "    outcome  \n",
      "0  survival  \n",
      "1  survival  \n",
      "2  survival  \n",
      "3  survival  \n",
      "4  survival  \n"
     ]
    }
   ],
   "source": [
    "from sklearn.experimental import enable_iterative_imputer\n",
    "from sklearn.impute import IterativeImputer\n",
    "\n",
    "# Select only numeric columns for imputation\n",
    "jordan_numeric = jordan.select_dtypes(include=[np.number])\n",
    "\n",
    "# Perform iterative imputation\n",
    "imputer = IterativeImputer(random_state=0)\n",
    "jordan_imputed_array = imputer.fit_transform(jordan_numeric)\n",
    "\n",
    "# Replace numeric columns in jordan with imputed values\n",
    "jordan[jordan_numeric.columns] = jordan_imputed_array\n",
    "\n",
    "print(jordan.head())"
   ]
  },
  {
   "cell_type": "markdown",
   "id": "396c16f4",
   "metadata": {},
   "source": [
    "## Feature engineering"
   ]
  },
  {
   "cell_type": "code",
   "execution_count": 54,
   "id": "4325354a",
   "metadata": {},
   "outputs": [],
   "source": [
    "# Pediatric reference ranges (example, adjust as needed for your population)\n",
    "def hr_category(age, hr):\n",
    "    # Age in years, HR in bpm\n",
    "    if pd.isnull(hr) or pd.isnull(age):\n",
    "        return np.nan\n",
    "    if age < 1:\n",
    "        if hr > 160: return 'tachycardia'\n",
    "        else: return 'normal'\n",
    "    elif age < 3:\n",
    "        if hr > 150: return 'tachycardia'\n",
    "        else: return 'normal'\n",
    "    elif age < 6:\n",
    "        if hr > 140: return 'tachycardia'\n",
    "        else: return 'normal'\n",
    "    elif age < 12:\n",
    "        if hr > 120: return 'tachycardia'\n",
    "        else: return 'normal'\n",
    "    else:\n",
    "        if hr > 100: return 'tachycardia'\n",
    "        else: return 'normal'\n",
    "\n",
    "def rr_category(age, rr):\n",
    "    # Age in years, RR in breaths/min\n",
    "    if pd.isnull(rr) or pd.isnull(age):\n",
    "        return np.nan\n",
    "    if age < 1:\n",
    "        if rr > 60: return 'tachypnea'\n",
    "        else: return 'normal'\n",
    "    elif age < 3:\n",
    "        if rr > 40: return 'tachypnea'\n",
    "        else: return 'normal'\n",
    "    elif age < 6:\n",
    "        if rr > 34: return 'tachypnea'\n",
    "        else: return 'normal'\n",
    "    elif age < 12:\n",
    "        if rr > 30: return 'tachypnea'\n",
    "        else: return 'normal'\n",
    "    else:\n",
    "        if rr > 20: return 'tachypnea'\n",
    "        else: return 'normal'\n",
    "\n",
    "def sbp_category(age, sbp):\n",
    "    # Age in years, SBP in mmHg\n",
    "    if pd.isnull(sbp) or pd.isnull(age):\n",
    "        return np.nan\n",
    "    if age < 1:\n",
    "        if sbp < 70: return 'low'\n",
    "        else: return 'normal'\n",
    "    elif age < 10:\n",
    "        if sbp < 70 + 2*age: return 'low'\n",
    "        else: return 'normal'\n",
    "    else:\n",
    "        if sbp < 90: return 'low'\n",
    "        else: return 'normal'\n",
    "\n"
   ]
  },
  {
   "cell_type": "code",
   "execution_count": 55,
   "id": "f017c34c",
   "metadata": {},
   "outputs": [],
   "source": [
    "def normalize_india_moi(moi):\n",
    "    \"\"\"\n",
    "    Consolidates India's MOI categories:\n",
    "    Groups motorcyclist, bicyclist, unspecified under 'unspecified'.\n",
    "    \"\"\"\n",
    "    if pd.isnull(moi):\n",
    "        return 'Unmapped'\n",
    "\n",
    "    moi = moi.strip()\n",
    "\n",
    "    if moi in [\n",
    "        'Road traffic injury (motorcyclist)',\n",
    "        'Road traffic injury (bicyclist)',\n",
    "        'Road traffic injury (unspecified)'\n",
    "    ]:\n",
    "        return 'Road traffic injury (unspecified)'\n",
    "\n",
    "    return moi\n"
   ]
  },
  {
   "cell_type": "code",
   "execution_count": 56,
   "id": "2ab15166",
   "metadata": {},
   "outputs": [],
   "source": [
    "def get_mode_of_injury(jordan_trauma):\n",
    "    \"\"\"\n",
    "    Maps Jordan 'type of trauma' value to India-style 'mode_of_injury'.\n",
    "\n",
    "    Parameters:\n",
    "    - jordan_trauma: string\n",
    "\n",
    "    Returns:\n",
    "    - Standardized MOI string (India format) or 'Unmapped'\n",
    "    \"\"\"\n",
    "    if pd.isnull(jordan_trauma):\n",
    "        return 'Unmapped'\n",
    "    \n",
    "    mapping = {\n",
    "        'RTA(PEDASTRAIN)': 'Road traffic injury (pedestrian)',\n",
    "        'Falling down': 'Fall',\n",
    "        'falling down': 'Fall',\n",
    "        'RTA': 'Road traffic injury (unspecified)',\n",
    "        'RTA ': 'Road traffic injury (unspecified)',\n",
    "        'RTA(back seated)': 'Road traffic injury (passenger)',\n",
    "        'RTA(first seat)': 'Road traffic injury (driver)',\n",
    "        'Blast injury': 'Burn',\n",
    "        'struck by a heavy object': 'Assault'\n",
    "    }\n",
    "\n",
    "    return mapping.get(jordan_trauma.strip(), 'Unmapped')\n"
   ]
  },
  {
   "cell_type": "code",
   "execution_count": 57,
   "id": "6d84ea7e",
   "metadata": {},
   "outputs": [],
   "source": [
    "india['moi'] = india['moi'].apply(normalize_india_moi)\n",
    "exclude_moi = ['Railway injury', 'Other', 'Unmapped']\n",
    "india = india[~india['moi'].isin(exclude_moi)].copy()\n"
   ]
  },
  {
   "cell_type": "code",
   "execution_count": 58,
   "id": "59a0b7fb",
   "metadata": {},
   "outputs": [],
   "source": [
    "jordan['type of trauma'] = jordan['type of trauma'].apply(get_mode_of_injury)\n",
    "jordan= jordan[~jordan['type of trauma'].isin(exclude_moi)].copy()\n"
   ]
  },
  {
   "cell_type": "code",
   "execution_count": 59,
   "id": "436e8f6f",
   "metadata": {},
   "outputs": [
    {
     "name": "stderr",
     "output_type": "stream",
     "text": [
      "C:\\Users\\shrin\\AppData\\Local\\Temp\\ipykernel_46992\\3600371442.py:2: UserWarning: Could not infer format, so each element will be parsed individually, falling back to `dateutil`. To ensure parsing is consistent and as-expected, please specify a format.\n",
      "  dt = pd.to_datetime(date_col + ' ' + time_col, errors='coerce')\n",
      "C:\\Users\\shrin\\AppData\\Local\\Temp\\ipykernel_46992\\3600371442.py:2: UserWarning: Could not infer format, so each element will be parsed individually, falling back to `dateutil`. To ensure parsing is consistent and as-expected, please specify a format.\n",
      "  dt = pd.to_datetime(date_col + ' ' + time_col, errors='coerce')\n"
     ]
    }
   ],
   "source": [
    "def parse_datetime(date_col, time_col):\n",
    "    dt = pd.to_datetime(date_col + ' ' + time_col, errors='coerce')\n",
    "    return dt\n",
    "\n",
    "india['admit_time'] = parse_datetime(india['doa'], india['toa'])\n",
    "india['discharge_time'] = parse_datetime(india['dodd'], india['todd'])\n",
    "india['los'] = (india['discharge_time'] - india['admit_time']).dt.total_seconds() / 3600\n",
    "india['los'] = india['los'].fillna(0)\n",
    "india['event'] = (india['died'] == 'Yes').astype(int)\n",
    "\n",
    "jordan['los'] = pd.to_numeric(jordan['length of stay in the hospital (in days)'], errors='coerce')\n",
    "jordan['event'] = (jordan['outcome'] == 'died').astype(int)\n",
    "\n",
    "india['sex'] = india['sex'].map({'Male':1,'Female':0})\n",
    "jordan['Gender'] = jordan['Gender'].map({'Male':1,'Female':0})\n",
    "\n",
    "features_india = india[['age','sex','sbp_1','hr_1','rr_1','gcs_t_1','moi']].copy()\n",
    "features_jordan = jordan[['age of diagnosis','Gender','ER-HR','ER-RR','ER-systolic BP','GCS in ER','type of trauma']].copy()\n",
    "features_jordan.columns = ['age','sex','hr','rr','sbp','gcs','source']\n",
    "features_india.columns = ['age','sex','sbp','hr','rr','gcs','source']\n"
   ]
  },
  {
   "cell_type": "code",
   "execution_count": 60,
   "id": "9988b04e",
   "metadata": {},
   "outputs": [],
   "source": [
    "# Ensure numeric conversion for Indian vital signs before categorization\n",
    "features_india['hr'] = pd.to_numeric(features_india['hr'], errors='coerce')\n",
    "features_india['rr'] = pd.to_numeric(features_india['rr'], errors='coerce')\n",
    "features_india['sbp'] = pd.to_numeric(features_india['sbp'], errors='coerce')\n",
    "features_india['age'] = pd.to_numeric(features_india['age'], errors='coerce')\n",
    "\n",
    "# Now apply the categorization functions\n",
    "features_india['hr_cat'] = [hr_category(a, h) for a, h in zip(features_india['age'], features_india['hr'])]\n",
    "features_india['rr_cat'] = [rr_category(a, r) for a, r in zip(features_india['age'], features_india['rr'])]\n",
    "features_india['sbp_cat'] = [sbp_category(a, s) for a, s in zip(features_india['age'], features_india['sbp'])]\n",
    "\n",
    "# For Jordan, use the existing categorical columns (assumed to be ER-HR, ER-RR, ER-systolic BP)\n",
    "features_jordan['hr_cat'] = features_jordan['hr']\n",
    "features_jordan['rr_cat'] = features_jordan['rr']\n",
    "features_jordan['sbp_cat'] = features_jordan['sbp']\n",
    "\n",
    "\n",
    "# Use correct argument for OneHotEncoder for scikit-learn >= 1.2\n",
    "from sklearn.preprocessing import OneHotEncoder\n",
    "\n",
    "cat_cols = ['hr_cat', 'rr_cat', 'sbp_cat','source']\n",
    "enc = OneHotEncoder(sparse_output=False, handle_unknown='ignore')\n",
    "\n",
    "# Fit on combined categories to ensure same columns\n",
    "enc.fit(pd.concat([features_india[cat_cols], features_jordan[cat_cols]], axis=0))\n",
    "\n",
    "X_india_cat = enc.transform(features_india[cat_cols])\n",
    "X_jordan_cat = enc.transform(features_jordan[cat_cols])\n",
    "\n",
    "# Replace original columns with encoded\n",
    "import numpy as np\n",
    "X_india_final = np.concatenate([features_india[['age','sex','gcs']].fillna(0).values, X_india_cat], axis=1)\n",
    "X_jordan_final = np.concatenate([features_jordan[['age','sex','gcs']].fillna(0).values, X_jordan_cat], axis=1)\n",
    "\n",
    "# Update y as before\n",
    "y_india = np.array([(bool(e), t) for e,t in zip(india['event'], india['los']/24)], dtype=[('event', bool), ('time', float)])\n",
    "y_jordan = np.array([(bool(e), t) for e,t in zip(jordan['event'], jordan['los'])], dtype=[('event', bool), ('time', float)])\n"
   ]
  },
  {
   "cell_type": "code",
   "execution_count": null,
   "id": "9ecf4cfd",
   "metadata": {},
   "outputs": [],
   "source": []
  },
  {
   "cell_type": "markdown",
   "id": "b4e851ad",
   "metadata": {},
   "source": [
    "## Exploratory analysis"
   ]
  },
  {
   "cell_type": "code",
   "execution_count": 61,
   "id": "ea44137d",
   "metadata": {},
   "outputs": [
    {
     "name": "stdout",
     "output_type": "stream",
     "text": [
      "India rows: 7301\n",
      "Jordan rows: 107\n",
      "Indian LOS summary (hours):\n",
      "count    7301.000000\n",
      "mean      168.716537\n",
      "std       308.287605\n",
      "min      -240.000000\n",
      "25%        43.500000\n",
      "50%       108.833333\n",
      "75%       191.666667\n",
      "max      8936.333333\n",
      "Name: los, dtype: float64\n",
      "Jordan LOS summary (days):\n",
      "count    107.000000\n",
      "mean      11.906265\n",
      "std       16.151716\n",
      "min        1.000000\n",
      "25%        4.000000\n",
      "50%        7.000000\n",
      "75%       12.000000\n",
      "max      126.000000\n",
      "Name: los, dtype: float64\n"
     ]
    },
    {
     "data": {
      "image/png": "[encoded data removed]",
      "text/plain": [
       "<Figure size 1200x400 with 2 Axes>"
      ]
     },
     "metadata": {},
     "output_type": "display_data"
    }
   ],
   "source": [
    "print('India rows:', len(india))\n",
    "print('Jordan rows:', len(jordan))\n",
    "\n",
    "print('Indian LOS summary (hours):')\n",
    "print(india['los'].describe())\n",
    "print('Jordan LOS summary (days):')\n",
    "print(jordan['los'].describe())\n",
    "\n",
    "fig, axes = plt.subplots(1,2, figsize=(12,4))\n",
    "axes[0].hist(india['los']/24, bins=30, color='skyblue')\n",
    "axes[0].set_title('India LOS (days)')\n",
    "axes[1].hist(jordan['los'], bins=15, color='salmon')\n",
    "axes[1].set_title('Jordan LOS (days)')\n",
    "plt.show()\n"
   ]
  },
  {
   "cell_type": "code",
   "execution_count": 62,
   "id": "7fdfc4e0",
   "metadata": {},
   "outputs": [
    {
     "data": {
      "image/png": "[encoded data removed]",
      "text/plain": [
       "<Figure size 640x480 with 1 Axes>"
      ]
     },
     "metadata": {},
     "output_type": "display_data"
    }
   ],
   "source": [
    "kmf = KaplanMeierFitter()\n",
    "kmf.fit(durations=india['los']/24, event_observed=india['event'], label='India')\n",
    "ax = kmf.plot()\n",
    "kmf.fit(durations=jordan['los'], event_observed=jordan['event'], label='Jordan')\n",
    "kmf.plot(ax=ax)\n",
    "ax.set_xlabel('Time (days)')\n",
    "ax.set_ylabel('Survival probability')\n",
    "plt.show()\n"
   ]
  },
  {
   "cell_type": "markdown",
   "id": "db29141b",
   "metadata": {},
   "source": [
    "## Baseline Cox model on Jordan data"
   ]
  },
  {
   "cell_type": "markdown",
   "id": "8c7d8e41",
   "metadata": {},
   "source": [
    "# Use only numeric and one-hot encoded features for CoxPHFitter\n",
    "# Use X_jordan_final (age, sex, gcs, one-hot encoded vitals) for baseline Cox model\n",
    "import pandas as pd\n",
    "\n",
    "# Create DataFrame for CoxPHFitter\n",
    "baseline_data = pd.DataFrame(X_jordan_final, columns=['age','sex','gcs'] + list(enc.get_feature_names_out(cat_cols)))\n",
    "baseline_data['duration'] = jordan['los'].values\n",
    "baseline_data['event'] = jordan['event'].values\n",
    "\n",
    "\n",
    "\n",
    "# Remove one-hot columns that are perfectly collinear (sum to 1 across all rows)\n",
    "def drop_perfectly_collinear_onehot(df, base_cols):\n",
    "    # Only keep one column per one-hot group\n",
    "    keep = set(base_cols)\n",
    "    for prefix in [c.split('_')[0] for c in df.columns if '_' in c]:\n",
    "        group = [c for c in df.columns if c.startswith(prefix+'_')]\n",
    "        if len(group) > 1:\n",
    "            # Keep only the first column in the group\n",
    "            keep.update(group[:1])\n",
    "    return df[list(keep)]\n",
    "\n",
    "# Identify base columns (age, sex, gcs, duration, event)\n",
    "base_cols = {'age','sex','gcs','duration','event'}\n",
    "\n",
    "# Apply to Jordan\n",
    "baseline_data = pd.DataFrame(X_jordan_final, columns=['age','sex','gcs'] + list(enc.get_feature_names_out(cat_cols)))\n",
    "baseline_data['duration'] = jordan['los'].values\n",
    "baseline_data['event'] = jordan['event'].values\n",
    "baseline_data = drop_perfectly_collinear_onehot(baseline_data, base_cols)\n",
    "\n",
    "cph = CoxPHFitter()\n",
    "cph.fit(baseline_data, duration_col='duration', event_col='event')\n",
    "print(cph.summary)\n",
    "print('Baseline C-index:', concordance_index(baseline_data['duration'], -cph.predict_partial_hazard(baseline_data), baseline_data['event']))\n"
   ]
  },
  {
   "cell_type": "markdown",
   "id": "c1b162e3",
   "metadata": {},
   "source": [
    "## Transfer learning with gradient boosting"
   ]
  },
  {
   "cell_type": "code",
   "execution_count": 63,
   "id": "42210192",
   "metadata": {},
   "outputs": [
    {
     "data": {
      "text/plain": [
       "\"# Baseline without transfer\\ngb_baseline = GradientBoostingSurvivalAnalysis(random_state=0)\\ngb_baseline.fit(X_jordan_gb, y_jordan)\\nbase_cindex = gb_baseline.score(X_jordan_gb, y_jordan)\\nprint('Baseline gradient boosting C-index:', base_cindex)\\n\\n# Pretrain on India then fine-tune on Jordan\\ngb_transfer = GradientBoostingSurvivalAnalysis(random_state=0, n_estimators=100, warm_start=True)\\ngb_transfer.fit(X_india_gb, y_india)\\ngb_transfer.set_params(n_estimators=150)\\ngb_transfer.fit(X_jordan_gb, y_jordan)\\ntransfer_cindex = gb_transfer.score(X_jordan_gb, y_jordan)\\nprint('Transfer learning C-index:', transfer_cindex)\\n\\n# Plot example predicted survival curves for Jordan\\nimport matplotlib.pyplot as plt\\nfor fn in gb_transfer.predict_survival_function(X_jordan_gb[:5]):\\n    plt.step(fn.x, fn.y)\\nplt.xlabel('Time (days)')\\nplt.ylabel('Survival probability')\\nplt.title('Example predicted curves (Jordan)')\\nplt.show()\""
      ]
     },
     "execution_count": 63,
     "metadata": {},
     "output_type": "execute_result"
    }
   ],
   "source": [
    "# Use only numeric and one-hot encoded features for gradient boosting survival analysis\n",
    "# Use X_jordan_final and X_india_final, not features_jordan or features_india (which contain strings)\n",
    "\n",
    "# Remove samples with negative or zero LOS for survival analysis\n",
    "# (Observed time must be positive)\n",
    "\n",
    "# For India\n",
    "valid_india = india['los'] > 0\n",
    "X_india_gb = X_india_final[valid_india.values]\n",
    "y_india = np.array([(bool(e), t) for e, t in zip(india.loc[valid_india, 'event'], india.loc[valid_india, 'los']/24)], dtype=[('event', bool), ('time', float)])\n",
    "\n",
    "# For Jordan\n",
    "valid_jordan = jordan['los'] > 0\n",
    "X_jordan_gb = X_jordan_final[valid_jordan.values]\n",
    "y_jordan = np.array([(bool(e), t) for e, t in zip(jordan.loc[valid_jordan, 'event'], jordan.loc[valid_jordan, 'los'])], dtype=[('event', bool), ('time', float)])\n",
    "\n",
    "\"\"\"# Baseline without transfer\n",
    "gb_baseline = GradientBoostingSurvivalAnalysis(random_state=0)\n",
    "gb_baseline.fit(X_jordan_gb, y_jordan)\n",
    "base_cindex = gb_baseline.score(X_jordan_gb, y_jordan)\n",
    "print('Baseline gradient boosting C-index:', base_cindex)\n",
    "\n",
    "# Pretrain on India then fine-tune on Jordan\n",
    "gb_transfer = GradientBoostingSurvivalAnalysis(random_state=0, n_estimators=100, warm_start=True)\n",
    "gb_transfer.fit(X_india_gb, y_india)\n",
    "gb_transfer.set_params(n_estimators=150)\n",
    "gb_transfer.fit(X_jordan_gb, y_jordan)\n",
    "transfer_cindex = gb_transfer.score(X_jordan_gb, y_jordan)\n",
    "print('Transfer learning C-index:', transfer_cindex)\n",
    "\n",
    "# Plot example predicted survival curves for Jordan\n",
    "import matplotlib.pyplot as plt\n",
    "for fn in gb_transfer.predict_survival_function(X_jordan_gb[:5]):\n",
    "    plt.step(fn.x, fn.y)\n",
    "plt.xlabel('Time (days)')\n",
    "plt.ylabel('Survival probability')\n",
    "plt.title('Example predicted curves (Jordan)')\n",
    "plt.show()\"\"\""
   ]
  },
  {
   "cell_type": "markdown",
   "id": "d7fc23e5",
   "metadata": {},
   "source": [
    "## Robust Transfer Learning Evaluation: 5-Fold Cross-Validation Only\n",
    "\n",
    "We now evaluate transfer learning using only 5-fold cross-validation (CV) for all models. Both the baseline (Jordan only) and transfer learning (pretrain India, fine-tune Jordan) models are compared using mean C-index and standard deviation across CV folds. This approach ensures robust, publication-quality model evaluation and avoids bias from a single holdout split."
   ]
  },
  {
   "cell_type": "code",
   "execution_count": 64,
   "id": "af4b547f",
   "metadata": {},
   "outputs": [
    {
     "data": {
      "text/plain": [
       "'\"\"\"from sklearn.model_selection import KFold\\nfrom sksurv.metrics import concordance_index_censored\\nimport numpy as np\\n\\n# Remove samples with negative or zero LOS for survival analysis\\nvalid_jordan = jordan[\\'los\\'] > 0\\nX_jordan_gb = X_jordan_final[valid_jordan.values]\\ny_jordan = np.array([(bool(e), t) for e, t in zip(jordan.loc[valid_jordan, \\'event\\'], jordan.loc[valid_jordan, \\'los\\'])], dtype=[(\\'event\\', bool), (\\'time\\', float)])\\n\\nvalid_india = india[\\'los\\'] > 0\\nX_india_gb = X_india_final[valid_india.values]\\ny_india = np.array([(bool(e), t) for e, t in zip(india.loc[valid_india, \\'event\\'], india.loc[valid_india, \\'los\\']/24)], dtype=[(\\'event\\', bool), (\\'time\\', float)])\\n\\n# Cross-validation (5-fold) on Jordan\\ndef crossval_cindex_transfer(X_source, y_source, X_target, y_target, n_splits=5):\\n    kf = KFold(n_splits=n_splits, shuffle=True, random_state=42)\\n    cindices = []\\n    for train_idx, test_idx in kf.split(X_target):\\n        gb_transfer = GradientBoostingSurvivalAnalysis(random_state=0, n_estimators=100, warm_start=True)\\n        gb_transfer.fit(X_source, y_source)\\n        gb_transfer.set_params(n_estimators=150)\\n        gb_transfer.fit(X_target[train_idx], y_target[train_idx])\\n        cindices.append(gb_transfer.score(X_target[test_idx], y_target[test_idx]))\\n    return np.mean(cindices), np.std(cindices)\\n\\ndef crossval_cindex_baseline(X, y, n_splits=5):\\n    kf = KFold(n_splits=n_splits, shuffle=True, random_state=42)\\n    cindices = []\\n    for train_idx, test_idx in kf.split(X):\\n        model_ = GradientBoostingSurvivalAnalysis(random_state=0)\\n        model_.fit(X[train_idx], y[train_idx])\\n        cindices.append(model_.score(X[test_idx], y[test_idx]))\\n    return np.mean(cindices), np.std(cindices)\\n\\n# Baseline CV\\ncv_cindex_baseline_jordan, cv_cindex_baseline_std_jordan = crossval_cindex_baseline(X_jordan_gb, y_jordan)\\nprint(f\\'Baseline 5-fold CV C-index: {cv_cindex_baseline_jordan:.3f} ± {cv_cindex_baseline_std_jordan:.3f}\\')\\n\\n# Transfer learning CV\\ncv_cindex_transfer_jordan, cv_cindex_transfer_std_jordan = crossval_cindex_transfer(X_india_gb, y_india, X_jordan_gb, y_jordan)\\nprint(f\\'Transfer learning 5-fold CV C-index: {cv_cindex_transfer_jordan:.3f} ± {cv_cindex_transfer_std_jordan:.3f}\\')\"\"\"'"
      ]
     },
     "execution_count": 64,
     "metadata": {},
     "output_type": "execute_result"
    }
   ],
   "source": [
    "\"\"\"\"\"\"'''\"\"\"from sklearn.model_selection import KFold\n",
    "from sksurv.metrics import concordance_index_censored\n",
    "import numpy as np\n",
    "\n",
    "# Remove samples with negative or zero LOS for survival analysis\n",
    "valid_jordan = jordan['los'] > 0\n",
    "X_jordan_gb = X_jordan_final[valid_jordan.values]\n",
    "y_jordan = np.array([(bool(e), t) for e, t in zip(jordan.loc[valid_jordan, 'event'], jordan.loc[valid_jordan, 'los'])], dtype=[('event', bool), ('time', float)])\n",
    "\n",
    "valid_india = india['los'] > 0\n",
    "X_india_gb = X_india_final[valid_india.values]\n",
    "y_india = np.array([(bool(e), t) for e, t in zip(india.loc[valid_india, 'event'], india.loc[valid_india, 'los']/24)], dtype=[('event', bool), ('time', float)])\n",
    "\n",
    "# Cross-validation (5-fold) on Jordan\n",
    "def crossval_cindex_transfer(X_source, y_source, X_target, y_target, n_splits=5):\n",
    "    kf = KFold(n_splits=n_splits, shuffle=True, random_state=42)\n",
    "    cindices = []\n",
    "    for train_idx, test_idx in kf.split(X_target):\n",
    "        gb_transfer = GradientBoostingSurvivalAnalysis(random_state=0, n_estimators=100, warm_start=True)\n",
    "        gb_transfer.fit(X_source, y_source)\n",
    "        gb_transfer.set_params(n_estimators=150)\n",
    "        gb_transfer.fit(X_target[train_idx], y_target[train_idx])\n",
    "        cindices.append(gb_transfer.score(X_target[test_idx], y_target[test_idx]))\n",
    "    return np.mean(cindices), np.std(cindices)\n",
    "\n",
    "def crossval_cindex_baseline(X, y, n_splits=5):\n",
    "    kf = KFold(n_splits=n_splits, shuffle=True, random_state=42)\n",
    "    cindices = []\n",
    "    for train_idx, test_idx in kf.split(X):\n",
    "        model_ = GradientBoostingSurvivalAnalysis(random_state=0)\n",
    "        model_.fit(X[train_idx], y[train_idx])\n",
    "        cindices.append(model_.score(X[test_idx], y[test_idx]))\n",
    "    return np.mean(cindices), np.std(cindices)\n",
    "\n",
    "# Baseline CV\n",
    "cv_cindex_baseline_jordan, cv_cindex_baseline_std_jordan = crossval_cindex_baseline(X_jordan_gb, y_jordan)\n",
    "print(f'Baseline 5-fold CV C-index: {cv_cindex_baseline_jordan:.3f} ± {cv_cindex_baseline_std_jordan:.3f}')\n",
    "\n",
    "# Transfer learning CV\n",
    "cv_cindex_transfer_jordan, cv_cindex_transfer_std_jordan = crossval_cindex_transfer(X_india_gb, y_india, X_jordan_gb, y_jordan)\n",
    "print(f'Transfer learning 5-fold CV C-index: {cv_cindex_transfer_jordan:.3f} ± {cv_cindex_transfer_std_jordan:.3f}')\"\"\"'''\"\"\"\"\"\""
   ]
  },
  {
   "cell_type": "markdown",
   "id": "a73421f1",
   "metadata": {},
   "source": [
    "## India→Jordan Transfer: Experimental Styles\n",
    "\n",
    "We compare three approaches for evaluating on the Jordan dataset:\n",
    "\n",
    "1. **Direct Transfer (No Fine-Tuning):**\n",
    "   - Train on India only, test directly on Jordan.\n",
    "2. **Standard Fine-Tuning:**\n",
    "   - Pretrain on India, then fine-tune on Jordan (add trees, warm_start), test on Jordan.\n",
    "3. **Weighted Fine-Tuning:**\n",
    "   - Pretrain on India, then fine-tune on Jordan with higher sample weights for Jordan data, test on Jordan.\n",
    "\n",
    "This allows for a rigorous comparison of transfer learning strategies."
   ]
  },
  {
   "cell_type": "code",
   "execution_count": 65,
   "id": "007fcf93",
   "metadata": {},
   "outputs": [],
   "source": [
    "from sksurv.metrics import concordance_index_censored"
   ]
  },
  {
   "cell_type": "code",
   "execution_count": 66,
   "id": "fcc3db40",
   "metadata": {},
   "outputs": [
    {
     "name": "stdout",
     "output_type": "stream",
     "text": [
      "Jordan-only baseline (5-fold CV) C-index: 0.840 ± 0.165\n"
     ]
    }
   ],
   "source": [
    "# Baseline: Train and evaluate only on Jordan (5-fold cross-validation)\n",
    "from sklearn.model_selection import KFold\n",
    "\n",
    "kf = KFold(n_splits=5, shuffle=True, random_state=42)\n",
    "cindices = []\n",
    "for train_idx, test_idx in kf.split(X_jordan_gb):\n",
    "    gb_jordan = GradientBoostingSurvivalAnalysis(random_state=42, n_estimators=150)\n",
    "    gb_jordan.fit(X_jordan_gb[train_idx], y_jordan[train_idx])\n",
    "    preds = gb_jordan.predict(X_jordan_gb[test_idx])\n",
    "    cindex = concordance_index_censored(y_jordan['event'][test_idx], y_jordan['time'][test_idx], preds)[0]\n",
    "    cindices.append(cindex)\n",
    "print(f'Jordan-only baseline (5-fold CV) C-index: {np.mean(cindices):.3f} ± {np.std(cindices):.3f}')"
   ]
  },
  {
   "cell_type": "code",
   "execution_count": 67,
   "id": "15792988",
   "metadata": {},
   "outputs": [
    {
     "name": "stdout",
     "output_type": "stream",
     "text": [
      "Weighted fine-tuning (India→Jordan, 5-fold CV) C-index: 0.915 ± 0.087\n"
     ]
    }
   ],
   "source": [
    "# Weighted fine-tuning: pretrain on India, fine-tune on Jordan with sample weighting, test on Jordan\n",
    "from sklearn.utils import compute_sample_weight\n",
    "from sklearn.model_selection import KFold\n",
    "import numpy as np\n",
    "\n",
    "# Weighted fine-tuning (India→Jordan) with 5-fold CV: pretrain on India, fine-tune on each Jordan train fold with sample weighting, evaluate on test fold\n",
    "kf = KFold(n_splits=5, shuffle=True, random_state=42)\n",
    "cindices_weighted = []\n",
    "for train_idx, test_idx in kf.split(X_jordan_gb):\n",
    "    gb_weighted = GradientBoostingSurvivalAnalysis(random_state=42, n_estimators=150, warm_start=True)\n",
    "    gb_weighted.fit(X_india_gb, y_india)\n",
    "    gb_weighted.set_params(n_estimators=150)\n",
    "    sample_weight = compute_sample_weight(class_weight={1: 5, 0: 1}, y=y_jordan['event'][train_idx].astype(int))\n",
    "    gb_weighted.fit(X_jordan_gb[train_idx], y_jordan[train_idx], sample_weight=sample_weight)\n",
    "    preds = gb_weighted.predict(X_jordan_gb[test_idx])\n",
    "    cindex = concordance_index_censored(y_jordan['event'][test_idx], y_jordan['time'][test_idx], preds)[0]\n",
    "    cindices_weighted.append(cindex)\n",
    "print(f'Weighted fine-tuning (India→Jordan, 5-fold CV) C-index: {np.mean(cindices_weighted):.3f} ± {np.std(cindices_weighted):.3f}')\n"
   ]
  },
  {
   "cell_type": "code",
   "execution_count": null,
   "id": "27e9e3e8",
   "metadata": {},
   "outputs": [],
   "source": [
    "# Standard fine-tuning (India→Jordan) with 5-fold CV: pretrain on India, fine-tune on each Jordan train fold, evaluate on test fold\n",
    "from sklearn.model_selection import KFold\n",
    "\n",
    "kf = KFold(n_splits=5, shuffle=True, random_state=42)\n",
    "cindices_finetune = []\n",
    "for train_idx, test_idx in kf.split(X_jordan_gb):\n",
    "    gb_finetune = GradientBoostingSurvivalAnalysis(random_state=42, n_estimators=150, warm_start=True)\n",
    "    gb_finetune.fit(X_india_gb, y_india)\n",
    "    gb_finetune.set_params(n_estimators=150)\n",
    "    gb_finetune.fit(X_jordan_gb[train_idx], y_jordan[train_idx])\n",
    "    preds = gb_finetune.predict(X_jordan_gb[test_idx])\n",
    "    cindex = concordance_index_censored(y_jordan['event'][test_idx], y_jordan['time'][test_idx], preds)[0]\n",
    "    cindices_finetune.append(cindex)\n",
    "print(f'Standard fine-tuning (India→Jordan, 5-fold CV) C-index: {np.mean(cindices_finetune):.3f} ± {np.std(cindices_finetune):.3f}')\n"
   ]
  },
  {
   "cell_type": "code",
   "execution_count": null,
   "id": "b5686c50",
   "metadata": {},
   "outputs": [],
   "source": [
    "from scipy.stats import wilcoxon\n",
    "\n",
    "def compare_models(cindex_a, cindex_b, name_a=\"Model A\", name_b=\"Model B\"):\n",
    "    \"\"\"\n",
    "    Performs Wilcoxon signed-rank test to compare two models' C-index values across CV folds.\n",
    "    \n",
    "    Parameters:\n",
    "    - cindex_a: List or array of C-index scores for model A (e.g., baseline)\n",
    "    - cindex_b: List or array of C-index scores for model B (e.g., fine-tuned)\n",
    "    - name_a: Optional name for model A (used in print statements)\n",
    "    - name_b: Optional name for model B\n",
    "\n",
    "    Returns:\n",
    "    - None (prints result)\n",
    "    \"\"\"\n",
    "    stat, p = wilcoxon(cindex_a, cindex_b)\n",
    "    mean_diff = np.mean(np.array(cindex_b) - np.array(cindex_a))\n",
    "    print(f\"\\n📊 Comparing: {name_a} vs. {name_b}\")\n",
    "    print(f\"Mean difference in C-index: {mean_diff:.3f}\")\n",
    "    print(f\"Wilcoxon signed-rank test p-value: {p:.4f}\")\n",
    "    if p < 0.05:\n",
    "        print(\"✅ Statistically significant difference (p < 0.05)\")\n",
    "    else:\n",
    "        print(\"⚠️ No statistically significant difference (p ≥ 0.05)\")\n"
   ]
  },
  {
   "cell_type": "code",
   "execution_count": null,
   "id": "5ce86d6f",
   "metadata": {},
   "outputs": [],
   "source": [
    "compare_models(\n",
    "    cindices,                # Jordan-only baseline\n",
    "    cindices_finetune,       # Standard fine-tuning\n",
    "    name_a=\"Jordan-only\",\n",
    "    name_b=\"Standard Fine-Tuning\"\n",
    ")\n",
    "\n",
    "compare_models(\n",
    "    cindices,                \n",
    "    cindices_weighted,       \n",
    "    name_a=\"Jordan-only\",\n",
    "    name_b=\"Weighted Fine-Tuning\"\n",
    ")\n",
    "\n",
    "compare_models(\n",
    "    cindices_finetune,\n",
    "    cindices_weighted,\n",
    "    name_a=\"Standard Fine-Tuning\",\n",
    "    name_b=\"Weighted Fine-Tuning\"\n",
    ")\n"
   ]
  },
  {
   "cell_type": "code",
   "execution_count": null,
   "id": "80fd2c46",
   "metadata": {},
   "outputs": [],
   "source": []
  },
  {
   "cell_type": "code",
   "execution_count": null,
   "id": "1ca67316",
   "metadata": {},
   "outputs": [],
   "source": [
    "from sksurv.metrics import cumulative_dynamic_auc\n",
    "import matplotlib.pyplot as plt\n",
    "import numpy as np\n",
    "\n",
    "# Time points: 1 to 50 days\n",
    "time_points = np.arange(1, 51)\n",
    "\n",
    "# Predict risk scores for each model\n",
    "pred_baseline = gb_jordan.predict(X_jordan_gb)\n",
    "pred_standard = gb_finetune.predict(X_jordan_gb)\n",
    "pred_weighted = gb_weighted.predict(X_jordan_gb)\n",
    "\n",
    "# Function to compute dynamic AUC curve\n",
    "def compute_dynamic_auc(y_train, y_test, risk, time_points):\n",
    "    auc_curve = []\n",
    "    for t in time_points:\n",
    "        _, auc = cumulative_dynamic_auc(y_train, y_test, risk, times=t)\n",
    "        auc_curve.append(auc)\n",
    "    return np.array(auc_curve)\n",
    "\n",
    "# Calculate AUC curves\n",
    "auc_baseline = compute_dynamic_auc(y_jordan, y_jordan, pred_baseline, time_points)\n",
    "auc_standard = compute_dynamic_auc(y_india, y_jordan, pred_standard, time_points)\n",
    "auc_weighted = compute_dynamic_auc(y_india, y_jordan, pred_weighted, time_points)\n",
    "\n",
    "# Plot all together\n",
    "plt.figure(figsize=(10, 6))\n",
    "plt.plot(time_points, auc_baseline, label='Jordan-only Baseline', marker='o')\n",
    "plt.plot(time_points, auc_standard, label='Standard TL (India → Jordan)', marker='s')\n",
    "plt.plot(time_points, auc_weighted, label='Weighted TL (India → Jordan)', marker='^')\n",
    "\n",
    "plt.axhline(0.5, ls='--', color='gray')\n",
    "plt.title('Dynamic AUC Comparison (First 50 Days)')\n",
    "plt.xlabel('Time (days)')\n",
    "plt.ylabel('AUC')\n",
    "plt.ylim(0.3, 1.0)\n",
    "plt.grid(True)\n",
    "plt.legend()\n",
    "plt.show()\n"
   ]
  },
  {
   "cell_type": "code",
   "execution_count": null,
   "id": "5dd69b0b",
   "metadata": {},
   "outputs": [],
   "source": [
    "# Fit GradientBoostingSurvivalAnalysis with standard fine-tuning on all data for feature importance\n",
    "# (Pretrain on India, then fine-tune on all Jordan data)\n",
    "gb_transfer = GradientBoostingSurvivalAnalysis(n_estimators=100, warm_start=True, random_state=42)\n",
    "gb_transfer.fit(X_india_gb, y_india)\n",
    "gb_transfer.set_params(n_estimators=150)\n",
    "gb_transfer.fit(X_jordan_gb, y_jordan)\n",
    "\n",
    "# Get feature names (numeric + one-hot encoded)\n",
    "feature_names = ['age', 'sex', 'gcs'] + list(enc.get_feature_names_out(['hr_cat', 'rr_cat', 'sbp_cat','source']))\n",
    "\n",
    "# Extract importances\n",
    "importances = gb_transfer.feature_importances_\n",
    "\n",
    "# Create DataFrame for plotting\n",
    "imp_df = pd.DataFrame({'feature': feature_names, 'importance': importances})\n",
    "imp_df = imp_df.sort_values('importance', ascending=False)\n",
    "\n",
    "# Plot feature importances\n",
    "plt.figure(figsize=(8,5))\n",
    "plt.barh(imp_df['feature'], imp_df['importance'])\n",
    "plt.xlabel('Feature Importance')\n",
    "plt.title('Feature Importances (Gradient Boosted Standard TL)')\n",
    "plt.gca().invert_yaxis()\n",
    "plt.show()"
   ]
  },
  {
   "cell_type": "code",
   "execution_count": null,
   "id": "d5bd3d30",
   "metadata": {},
   "outputs": [],
   "source": []
  }
 ],
 "metadata": {
  "kernelspec": {
   "display_name": "base",
   "language": "python",
   "name": "python3"
  },
  "language_info": {
   "codemirror_mode": {
    "name": "ipython",
    "version": 3
   },
   "file_extension": ".py",
   "mimetype": "text/x-python",
   "name": "python",
   "nbconvert_exporter": "python",
   "pygments_lexer": "ipython3",
   "version": "3.12.3"
  }
 },
 "nbformat": 4,
 "nbformat_minor": 5
}
